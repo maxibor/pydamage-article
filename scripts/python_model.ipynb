{
 "cells": [
  {
   "cell_type": "code",
   "execution_count": 1,
   "metadata": {},
   "outputs": [],
   "source": [
    "import pandas as pd\n",
    "import statsmodels.api as sm\n",
    "import statsmodels.formula.api as smf\n",
    "import os\n",
    "import pickle\n",
    "import patsy\n",
    "import numpy as np\n",
    "import pickle"
   ]
  },
  {
   "cell_type": "code",
   "execution_count": 2,
   "metadata": {},
   "outputs": [],
   "source": [
    "data = pd.read_csv(\"../data/PYD_simulation_results.csv\", sep=\"\\t\")"
   ]
  },
  {
   "cell_type": "code",
   "execution_count": 3,
   "metadata": {},
   "outputs": [
    {
     "data": {
      "text/plain": [
       "Index(['genome', 'readlength', 'damage', 'simuCov', 'simuContigLength',\n",
       "       'reference', 'contiglength', 'GCcontent', 'medianRL', 'null_model_p0',\n",
       "       'null_model_p0_stdev', 'damage_model_p', 'damage_model_p_stdev',\n",
       "       'damage_model_pmin', 'damage_model_pmin_stdev', 'damage_model_pmax',\n",
       "       'damage_model_pmax_stdev', 'pvalue', 'qvalue', 'RMSE',\n",
       "       'nb_reads_aligned', 'coverage', 'actualCov', 'CtoT-0', 'CtoT-1',\n",
       "       'CtoT-2', 'CtoT-3', 'CtoT-4', 'GtoA-0', 'GtoA-1', 'GtoA-2', 'GtoA-3',\n",
       "       'GtoA-4'],\n",
       "      dtype='object')"
      ]
     },
     "execution_count": 3,
     "metadata": {},
     "output_type": "execute_result"
    }
   ],
   "source": [
    "data.columns"
   ]
  },
  {
   "cell_type": "code",
   "execution_count": 4,
   "metadata": {},
   "outputs": [
    {
     "data": {
      "text/plain": [
       "genome                      object\n",
       "readlength                  object\n",
       "damage                     float64\n",
       "simuCov                     object\n",
       "simuContigLength            object\n",
       "reference                   object\n",
       "contiglength                 int64\n",
       "GCcontent                  float64\n",
       "medianRL                     int64\n",
       "null_model_p0              float64\n",
       "null_model_p0_stdev        float64\n",
       "damage_model_p             float64\n",
       "damage_model_p_stdev       float64\n",
       "damage_model_pmin          float64\n",
       "damage_model_pmin_stdev    float64\n",
       "damage_model_pmax          float64\n",
       "damage_model_pmax_stdev    float64\n",
       "pvalue                     float64\n",
       "qvalue                     float64\n",
       "RMSE                       float64\n",
       "nb_reads_aligned             int64\n",
       "coverage                   float64\n",
       "actualCov                  float64\n",
       "CtoT-0                     float64\n",
       "CtoT-1                     float64\n",
       "CtoT-2                     float64\n",
       "CtoT-3                     float64\n",
       "CtoT-4                     float64\n",
       "GtoA-0                     float64\n",
       "GtoA-1                     float64\n",
       "GtoA-2                     float64\n",
       "GtoA-3                     float64\n",
       "GtoA-4                     float64\n",
       "dtype: object"
      ]
     },
     "execution_count": 4,
     "metadata": {},
     "output_type": "execute_result"
    }
   ],
   "source": [
    "data.dtypes"
   ]
  },
  {
   "cell_type": "code",
   "execution_count": 5,
   "metadata": {},
   "outputs": [
    {
     "name": "stdout",
     "output_type": "stream",
     "text": [
      "Index(['genome', 'readlength', 'damage', 'simuCov', 'simuContigLength',\n",
      "       'reference', 'contiglength', 'GCcontent', 'medianRL', 'null_model_p0',\n",
      "       'null_model_p0_stdev', 'damage_model_p', 'damage_model_p_stdev',\n",
      "       'damage_model_pmin', 'damage_model_pmin_stdev', 'damage_model_pmax',\n",
      "       'damage_model_pmax_stdev', 'pvalue', 'qvalue', 'RMSE',\n",
      "       'nb_reads_aligned', 'coverage', 'actualCov', 'CtoT-0', 'CtoT-1',\n",
      "       'CtoT-2', 'CtoT-3', 'CtoT-4', 'GtoA-0', 'GtoA-1', 'GtoA-2', 'GtoA-3',\n",
      "       'GtoA-4'],\n",
      "      dtype='object')\n"
     ]
    }
   ],
   "source": [
    "print(data.columns)"
   ]
  },
  {
   "cell_type": "code",
   "execution_count": 6,
   "metadata": {},
   "outputs": [],
   "source": [
    "data = data[['qvalue','damage_model_pmax','coverage','contiglength']]"
   ]
  },
  {
   "cell_type": "code",
   "execution_count": 7,
   "metadata": {},
   "outputs": [],
   "source": [
    "data = data.loc[data['qvalue'].notna(),:]"
   ]
  },
  {
   "cell_type": "markdown",
   "metadata": {},
   "source": [
    "## Defining `sig` categorial variable\n",
    "`True` if `qvalue`<0.05  \n",
    "`False` if `qvalue`>= 0.05"
   ]
  },
  {
   "cell_type": "code",
   "execution_count": 8,
   "metadata": {},
   "outputs": [],
   "source": [
    "data['sig'] = pd.cut(data['qvalue'],[0, 0.05, 1], labels=[True,False], include_lowest=True)"
   ]
  },
  {
   "cell_type": "code",
   "execution_count": 9,
   "metadata": {},
   "outputs": [
    {
     "data": {
      "text/html": [
       "<div>\n",
       "<style scoped>\n",
       "    .dataframe tbody tr th:only-of-type {\n",
       "        vertical-align: middle;\n",
       "    }\n",
       "\n",
       "    .dataframe tbody tr th {\n",
       "        vertical-align: top;\n",
       "    }\n",
       "\n",
       "    .dataframe thead th {\n",
       "        text-align: right;\n",
       "    }\n",
       "</style>\n",
       "<table border=\"1\" class=\"dataframe\">\n",
       "  <thead>\n",
       "    <tr style=\"text-align: right;\">\n",
       "      <th></th>\n",
       "      <th>qvalue</th>\n",
       "      <th>damage_model_pmax</th>\n",
       "      <th>coverage</th>\n",
       "      <th>contiglength</th>\n",
       "      <th>sig</th>\n",
       "    </tr>\n",
       "  </thead>\n",
       "  <tbody>\n",
       "    <tr>\n",
       "      <th>1896</th>\n",
       "      <td>0.46821</td>\n",
       "      <td>0.17678</td>\n",
       "      <td>3.23761</td>\n",
       "      <td>3068</td>\n",
       "      <td>False</td>\n",
       "    </tr>\n",
       "    <tr>\n",
       "      <th>2186</th>\n",
       "      <td>1.00000</td>\n",
       "      <td>0.00007</td>\n",
       "      <td>4.04900</td>\n",
       "      <td>22469</td>\n",
       "      <td>False</td>\n",
       "    </tr>\n",
       "    <tr>\n",
       "      <th>2671</th>\n",
       "      <td>1.00000</td>\n",
       "      <td>0.17678</td>\n",
       "      <td>7.22360</td>\n",
       "      <td>3068</td>\n",
       "      <td>False</td>\n",
       "    </tr>\n",
       "    <tr>\n",
       "      <th>2985</th>\n",
       "      <td>1.00000</td>\n",
       "      <td>0.01588</td>\n",
       "      <td>7.58392</td>\n",
       "      <td>22469</td>\n",
       "      <td>False</td>\n",
       "    </tr>\n",
       "    <tr>\n",
       "      <th>3483</th>\n",
       "      <td>1.00000</td>\n",
       "      <td>0.17678</td>\n",
       "      <td>13.59224</td>\n",
       "      <td>3068</td>\n",
       "      <td>False</td>\n",
       "    </tr>\n",
       "    <tr>\n",
       "      <th>...</th>\n",
       "      <td>...</td>\n",
       "      <td>...</td>\n",
       "      <td>...</td>\n",
       "      <td>...</td>\n",
       "      <td>...</td>\n",
       "    </tr>\n",
       "    <tr>\n",
       "      <th>701995</th>\n",
       "      <td>0.00000</td>\n",
       "      <td>0.30366</td>\n",
       "      <td>201.63903</td>\n",
       "      <td>346944</td>\n",
       "      <td>True</td>\n",
       "    </tr>\n",
       "    <tr>\n",
       "      <th>701996</th>\n",
       "      <td>0.00000</td>\n",
       "      <td>0.30444</td>\n",
       "      <td>260.31416</td>\n",
       "      <td>273518</td>\n",
       "      <td>True</td>\n",
       "    </tr>\n",
       "    <tr>\n",
       "      <th>701997</th>\n",
       "      <td>0.00000</td>\n",
       "      <td>0.30184</td>\n",
       "      <td>310.00277</td>\n",
       "      <td>232161</td>\n",
       "      <td>True</td>\n",
       "    </tr>\n",
       "    <tr>\n",
       "      <th>701998</th>\n",
       "      <td>0.00000</td>\n",
       "      <td>0.30351</td>\n",
       "      <td>209.11812</td>\n",
       "      <td>287978</td>\n",
       "      <td>True</td>\n",
       "    </tr>\n",
       "    <tr>\n",
       "      <th>701999</th>\n",
       "      <td>0.00000</td>\n",
       "      <td>0.30067</td>\n",
       "      <td>210.42236</td>\n",
       "      <td>280841</td>\n",
       "      <td>True</td>\n",
       "    </tr>\n",
       "  </tbody>\n",
       "</table>\n",
       "<p>610730 rows × 5 columns</p>\n",
       "</div>"
      ],
      "text/plain": [
       "         qvalue  damage_model_pmax   coverage  contiglength    sig\n",
       "1896    0.46821            0.17678    3.23761          3068  False\n",
       "2186    1.00000            0.00007    4.04900         22469  False\n",
       "2671    1.00000            0.17678    7.22360          3068  False\n",
       "2985    1.00000            0.01588    7.58392         22469  False\n",
       "3483    1.00000            0.17678   13.59224          3068  False\n",
       "...         ...                ...        ...           ...    ...\n",
       "701995  0.00000            0.30366  201.63903        346944   True\n",
       "701996  0.00000            0.30444  260.31416        273518   True\n",
       "701997  0.00000            0.30184  310.00277        232161   True\n",
       "701998  0.00000            0.30351  209.11812        287978   True\n",
       "701999  0.00000            0.30067  210.42236        280841   True\n",
       "\n",
       "[610730 rows x 5 columns]"
      ]
     },
     "execution_count": 9,
     "metadata": {},
     "output_type": "execute_result"
    }
   ],
   "source": [
    "data"
   ]
  },
  {
   "cell_type": "code",
   "execution_count": 10,
   "metadata": {},
   "outputs": [
    {
     "data": {
      "text/plain": [
       "qvalue                float64\n",
       "damage_model_pmax     float64\n",
       "coverage              float64\n",
       "contiglength            int64\n",
       "sig                  category\n",
       "dtype: object"
      ]
     },
     "execution_count": 10,
     "metadata": {},
     "output_type": "execute_result"
    }
   ],
   "source": [
    "data.dtypes"
   ]
  },
  {
   "cell_type": "code",
   "execution_count": 11,
   "metadata": {},
   "outputs": [],
   "source": [
    "data = data.drop('qvalue', axis=1)"
   ]
  },
  {
   "cell_type": "code",
   "execution_count": 12,
   "metadata": {},
   "outputs": [],
   "source": [
    "data.rename(columns={'damage_model_pmax':'damage'}, inplace=True)"
   ]
  },
  {
   "cell_type": "markdown",
   "metadata": {},
   "source": [
    "### Reordering the categories"
   ]
  },
  {
   "cell_type": "markdown",
   "metadata": {},
   "source": [
    "## Model formula"
   ]
  },
  {
   "cell_type": "code",
   "execution_count": 13,
   "metadata": {},
   "outputs": [],
   "source": [
    "formula = 'sig ~ coverage + damage + contiglength'"
   ]
  },
  {
   "cell_type": "markdown",
   "metadata": {},
   "source": [
    "## Creating the GLM logistic model"
   ]
  },
  {
   "cell_type": "code",
   "execution_count": 14,
   "metadata": {},
   "outputs": [],
   "source": [
    "model_call = smf.glm(formula= formula, data=data, family=sm.families.Binomial())"
   ]
  },
  {
   "cell_type": "code",
   "execution_count": 15,
   "metadata": {},
   "outputs": [],
   "source": [
    "model = model_call.fit()"
   ]
  },
  {
   "cell_type": "code",
   "execution_count": 16,
   "metadata": {},
   "outputs": [
    {
     "name": "stdout",
     "output_type": "stream",
     "text": [
      "                      Generalized Linear Model Regression Results                      \n",
      "=======================================================================================\n",
      "Dep. Variable:     ['sig[True]', 'sig[False]']   No. Observations:               610730\n",
      "Model:                                     GLM   Df Residuals:                   610726\n",
      "Model Family:                         Binomial   Df Model:                            3\n",
      "Link Function:                           logit   Scale:                          1.0000\n",
      "Method:                                   IRLS   Log-Likelihood:            -2.0981e+05\n",
      "Date:                         Mon, 09 Nov 2020   Deviance:                   4.1963e+05\n",
      "Time:                                 16:23:35   Pearson chi2:                 8.62e+11\n",
      "No. Iterations:                              9                                         \n",
      "Covariance Type:                     nonrobust                                         \n",
      "================================================================================\n",
      "                   coef    std err          z      P>|z|      [0.025      0.975]\n",
      "--------------------------------------------------------------------------------\n",
      "Intercept       -1.5586      0.008   -196.132      0.000      -1.574      -1.543\n",
      "coverage         0.0258      0.000    197.031      0.000       0.026       0.026\n",
      "damage           7.3441      0.041    177.679      0.000       7.263       7.425\n",
      "contiglength  3.979e-05   1.94e-07    205.133      0.000    3.94e-05    4.02e-05\n",
      "================================================================================\n"
     ]
    }
   ],
   "source": [
    "print(model.summary())"
   ]
  },
  {
   "cell_type": "markdown",
   "metadata": {},
   "source": [
    "### Saving the model"
   ]
  },
  {
   "cell_type": "code",
   "execution_count": 17,
   "metadata": {},
   "outputs": [
    {
     "name": "stderr",
     "output_type": "stream",
     "text": [
      "/Users/borry/anaconda3/lib/python3.8/site-packages/statsmodels/genmod/generalized_linear_model.py:1519: FutureWarning: Anscombe residuals currently unscaled. In a future release, they will be scaled.\n",
      "  warnings.warn('Anscombe residuals currently unscaled. In a future '\n"
     ]
    }
   ],
   "source": [
    "model.save(\"../models/accuracy_model_v2_python.pickle\", remove_data=True)"
   ]
  },
  {
   "cell_type": "markdown",
   "metadata": {},
   "source": [
    "### Test data"
   ]
  },
  {
   "cell_type": "code",
   "execution_count": 18,
   "metadata": {},
   "outputs": [],
   "source": [
    "d = pd.Series([200,1000,0.03]).to_frame(name='NZ_JHCB02000014.1').transpose()"
   ]
  },
  {
   "cell_type": "code",
   "execution_count": 19,
   "metadata": {},
   "outputs": [],
   "source": [
    "d.columns = ['coverage','contiglength','damage']"
   ]
  },
  {
   "cell_type": "code",
   "execution_count": 20,
   "metadata": {},
   "outputs": [
    {
     "data": {
      "text/html": [
       "<div>\n",
       "<style scoped>\n",
       "    .dataframe tbody tr th:only-of-type {\n",
       "        vertical-align: middle;\n",
       "    }\n",
       "\n",
       "    .dataframe tbody tr th {\n",
       "        vertical-align: top;\n",
       "    }\n",
       "\n",
       "    .dataframe thead th {\n",
       "        text-align: right;\n",
       "    }\n",
       "</style>\n",
       "<table border=\"1\" class=\"dataframe\">\n",
       "  <thead>\n",
       "    <tr style=\"text-align: right;\">\n",
       "      <th></th>\n",
       "      <th>coverage</th>\n",
       "      <th>contiglength</th>\n",
       "      <th>damage</th>\n",
       "    </tr>\n",
       "  </thead>\n",
       "  <tbody>\n",
       "    <tr>\n",
       "      <th>NZ_JHCB02000014.1</th>\n",
       "      <td>200.0</td>\n",
       "      <td>1000.0</td>\n",
       "      <td>0.03</td>\n",
       "    </tr>\n",
       "  </tbody>\n",
       "</table>\n",
       "</div>"
      ],
      "text/plain": [
       "                   coverage  contiglength  damage\n",
       "NZ_JHCB02000014.1     200.0        1000.0    0.03"
      ]
     },
     "execution_count": 20,
     "metadata": {},
     "output_type": "execute_result"
    }
   ],
   "source": [
    "d"
   ]
  },
  {
   "cell_type": "markdown",
   "metadata": {},
   "source": [
    "### Making inference on test data"
   ]
  },
  {
   "cell_type": "code",
   "execution_count": 21,
   "metadata": {},
   "outputs": [
    {
     "data": {
      "text/plain": [
       "NZ_JHCB02000014.1    0.979393\n",
       "dtype: float64"
      ]
     },
     "execution_count": 21,
     "metadata": {},
     "output_type": "execute_result"
    }
   ],
   "source": [
    "model.predict(d)"
   ]
  },
  {
   "cell_type": "code",
   "execution_count": 22,
   "metadata": {},
   "outputs": [],
   "source": [
    "with open(\"../models/accuracy_model_v2_python.pickle\", 'rb') as mod_p:\n",
    "    model2 = pickle.load(mod_p)"
   ]
  },
  {
   "cell_type": "code",
   "execution_count": 23,
   "metadata": {},
   "outputs": [
    {
     "data": {
      "text/plain": [
       "NZ_JHCB02000014.1    0.979393\n",
       "dtype: float64"
      ]
     },
     "execution_count": 23,
     "metadata": {},
     "output_type": "execute_result"
    }
   ],
   "source": [
    "model2.predict(d)"
   ]
  }
 ],
 "metadata": {
  "kernelspec": {
   "display_name": "Python 3",
   "language": "python",
   "name": "python3"
  },
  "language_info": {
   "codemirror_mode": {
    "name": "ipython",
    "version": 3
   },
   "file_extension": ".py",
   "mimetype": "text/x-python",
   "name": "python",
   "nbconvert_exporter": "python",
   "pygments_lexer": "ipython3",
   "version": "3.8.5"
  }
 },
 "nbformat": 4,
 "nbformat_minor": 4
}
