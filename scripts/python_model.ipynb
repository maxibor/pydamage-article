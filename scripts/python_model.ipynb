{
 "cells": [
  {
   "cell_type": "code",
   "execution_count": 1,
   "metadata": {},
   "outputs": [],
   "source": [
    "import pandas as pd\n",
    "import statsmodels.api as sm\n",
    "import statsmodels.formula.api as smf\n",
    "import os\n",
    "import pickle\n",
    "import patsy\n",
    "import numpy as np"
   ]
  },
  {
   "cell_type": "code",
   "execution_count": 2,
   "metadata": {},
   "outputs": [],
   "source": [
    "rootdir = \"../data/gc/\""
   ]
  },
  {
   "cell_type": "code",
   "execution_count": 3,
   "metadata": {},
   "outputs": [],
   "source": [
    "tsvs = [i for i in os.listdir(rootdir) if i.endswith(\".tsv\")]"
   ]
  },
  {
   "cell_type": "code",
   "execution_count": 4,
   "metadata": {},
   "outputs": [],
   "source": [
    "data = pd.read_csv(f\"{rootdir}{tsvs[0]}\", sep=\"\\t\")"
   ]
  },
  {
   "cell_type": "code",
   "execution_count": 5,
   "metadata": {},
   "outputs": [],
   "source": [
    "for i in tsvs[1:]:\n",
    "    tmp = pd.read_csv(f\"{rootdir}{i}\", sep=\"\\t\")\n",
    "    data.append(tmp)"
   ]
  },
  {
   "cell_type": "code",
   "execution_count": 6,
   "metadata": {},
   "outputs": [
    {
     "name": "stdout",
     "output_type": "stream",
     "text": [
      "Index(['genome', 'readlength', 'damage', 'repeat', 'simuCov',\n",
      "       'simuContigLength', 'reference', 'null_model_p0', 'null_model_p0_stdev',\n",
      "       'damage_model_p', 'damage_model_p_stdev', 'damage_model_pmin',\n",
      "       'damage_model_pmin_stdev', 'damage_model_pmax',\n",
      "       'damage_model_pmax_stdev', 'pvalue', 'qvalue', 'RMSE',\n",
      "       'nb_reads_aligned', 'coverage', 'actualCov', 'CtoT-0', 'CtoT-1',\n",
      "       'CtoT-2', 'CtoT-3', 'CtoT-4', 'GtoA-0', 'GtoA-1', 'GtoA-2', 'GtoA-3',\n",
      "       'GtoA-4', 'seed', 'GCcontent'],\n",
      "      dtype='object')\n"
     ]
    }
   ],
   "source": [
    "print(data.columns)"
   ]
  },
  {
   "cell_type": "code",
   "execution_count": 7,
   "metadata": {},
   "outputs": [],
   "source": [
    "data = data[['qvalue','damage','simuCov','simuContigLength','GCcontent']]"
   ]
  },
  {
   "cell_type": "code",
   "execution_count": 8,
   "metadata": {},
   "outputs": [],
   "source": [
    "data = data.loc[data['qvalue'].notna(),:]"
   ]
  },
  {
   "cell_type": "markdown",
   "metadata": {},
   "source": [
    "## Defining `sig` categorial variable\n",
    "`True` if `qvalue`<0.05  \n",
    "`False` if `qvalue`>= 0.05"
   ]
  },
  {
   "cell_type": "code",
   "execution_count": 9,
   "metadata": {},
   "outputs": [],
   "source": [
    "data['sig'] = pd.cut(data['qvalue'],[0, 0.05, 1], labels=[True,False], include_lowest=True)"
   ]
  },
  {
   "cell_type": "code",
   "execution_count": 10,
   "metadata": {},
   "outputs": [
    {
     "data": {
      "text/html": [
       "<div>\n",
       "<style scoped>\n",
       "    .dataframe tbody tr th:only-of-type {\n",
       "        vertical-align: middle;\n",
       "    }\n",
       "\n",
       "    .dataframe tbody tr th {\n",
       "        vertical-align: top;\n",
       "    }\n",
       "\n",
       "    .dataframe thead th {\n",
       "        text-align: right;\n",
       "    }\n",
       "</style>\n",
       "<table border=\"1\" class=\"dataframe\">\n",
       "  <thead>\n",
       "    <tr style=\"text-align: right;\">\n",
       "      <th></th>\n",
       "      <th>qvalue</th>\n",
       "      <th>damage</th>\n",
       "      <th>simuCov</th>\n",
       "      <th>simuContigLength</th>\n",
       "      <th>GCcontent</th>\n",
       "      <th>sig</th>\n",
       "    </tr>\n",
       "  </thead>\n",
       "  <tbody>\n",
       "    <tr>\n",
       "      <th>274</th>\n",
       "      <td>1.0</td>\n",
       "      <td>0.0</td>\n",
       "      <td>1-2</td>\n",
       "      <td>2000-5000</td>\n",
       "      <td>0.4181</td>\n",
       "      <td>False</td>\n",
       "    </tr>\n",
       "    <tr>\n",
       "      <th>326</th>\n",
       "      <td>1.0</td>\n",
       "      <td>0.0</td>\n",
       "      <td>1-2</td>\n",
       "      <td>5000-10000</td>\n",
       "      <td>0.3747</td>\n",
       "      <td>False</td>\n",
       "    </tr>\n",
       "    <tr>\n",
       "      <th>473</th>\n",
       "      <td>1.0</td>\n",
       "      <td>0.0</td>\n",
       "      <td>1-2</td>\n",
       "      <td>10000-20000</td>\n",
       "      <td>0.4440</td>\n",
       "      <td>False</td>\n",
       "    </tr>\n",
       "    <tr>\n",
       "      <th>502</th>\n",
       "      <td>1.0</td>\n",
       "      <td>0.0</td>\n",
       "      <td>1-2</td>\n",
       "      <td>20000-50000</td>\n",
       "      <td>0.4589</td>\n",
       "      <td>False</td>\n",
       "    </tr>\n",
       "    <tr>\n",
       "      <th>606</th>\n",
       "      <td>1.0</td>\n",
       "      <td>0.0</td>\n",
       "      <td>1-2</td>\n",
       "      <td>50000-100000</td>\n",
       "      <td>0.4828</td>\n",
       "      <td>False</td>\n",
       "    </tr>\n",
       "    <tr>\n",
       "      <th>...</th>\n",
       "      <td>...</td>\n",
       "      <td>...</td>\n",
       "      <td>...</td>\n",
       "      <td>...</td>\n",
       "      <td>...</td>\n",
       "      <td>...</td>\n",
       "    </tr>\n",
       "    <tr>\n",
       "      <th>80995</th>\n",
       "      <td>0.0</td>\n",
       "      <td>0.2</td>\n",
       "      <td>200-500</td>\n",
       "      <td>200000-500000</td>\n",
       "      <td>0.4766</td>\n",
       "      <td>True</td>\n",
       "    </tr>\n",
       "    <tr>\n",
       "      <th>80996</th>\n",
       "      <td>0.0</td>\n",
       "      <td>0.2</td>\n",
       "      <td>200-500</td>\n",
       "      <td>200000-500000</td>\n",
       "      <td>0.4770</td>\n",
       "      <td>True</td>\n",
       "    </tr>\n",
       "    <tr>\n",
       "      <th>80997</th>\n",
       "      <td>0.0</td>\n",
       "      <td>0.2</td>\n",
       "      <td>200-500</td>\n",
       "      <td>200000-500000</td>\n",
       "      <td>0.4788</td>\n",
       "      <td>True</td>\n",
       "    </tr>\n",
       "    <tr>\n",
       "      <th>80998</th>\n",
       "      <td>0.0</td>\n",
       "      <td>0.2</td>\n",
       "      <td>200-500</td>\n",
       "      <td>200000-500000</td>\n",
       "      <td>0.4692</td>\n",
       "      <td>True</td>\n",
       "    </tr>\n",
       "    <tr>\n",
       "      <th>80999</th>\n",
       "      <td>0.0</td>\n",
       "      <td>0.2</td>\n",
       "      <td>200-500</td>\n",
       "      <td>200000-500000</td>\n",
       "      <td>0.4719</td>\n",
       "      <td>True</td>\n",
       "    </tr>\n",
       "  </tbody>\n",
       "</table>\n",
       "<p>70645 rows × 6 columns</p>\n",
       "</div>"
      ],
      "text/plain": [
       "       qvalue  damage  simuCov simuContigLength  GCcontent    sig\n",
       "274       1.0     0.0      1-2        2000-5000     0.4181  False\n",
       "326       1.0     0.0      1-2       5000-10000     0.3747  False\n",
       "473       1.0     0.0      1-2      10000-20000     0.4440  False\n",
       "502       1.0     0.0      1-2      20000-50000     0.4589  False\n",
       "606       1.0     0.0      1-2     50000-100000     0.4828  False\n",
       "...       ...     ...      ...              ...        ...    ...\n",
       "80995     0.0     0.2  200-500    200000-500000     0.4766   True\n",
       "80996     0.0     0.2  200-500    200000-500000     0.4770   True\n",
       "80997     0.0     0.2  200-500    200000-500000     0.4788   True\n",
       "80998     0.0     0.2  200-500    200000-500000     0.4692   True\n",
       "80999     0.0     0.2  200-500    200000-500000     0.4719   True\n",
       "\n",
       "[70645 rows x 6 columns]"
      ]
     },
     "execution_count": 10,
     "metadata": {},
     "output_type": "execute_result"
    }
   ],
   "source": [
    "data = data.astype({'simuCov':'category','simuContigLength':'category'})\n",
    "data"
   ]
  },
  {
   "cell_type": "code",
   "execution_count": 11,
   "metadata": {},
   "outputs": [
    {
     "data": {
      "text/plain": [
       "qvalue               float64\n",
       "damage               float64\n",
       "simuCov             category\n",
       "simuContigLength    category\n",
       "GCcontent            float64\n",
       "sig                 category\n",
       "dtype: object"
      ]
     },
     "execution_count": 11,
     "metadata": {},
     "output_type": "execute_result"
    }
   ],
   "source": [
    "data.dtypes"
   ]
  },
  {
   "cell_type": "code",
   "execution_count": 12,
   "metadata": {},
   "outputs": [],
   "source": [
    "data = data.drop('qvalue', axis=1)"
   ]
  },
  {
   "cell_type": "markdown",
   "metadata": {},
   "source": [
    "### Reordering the categories"
   ]
  },
  {
   "cell_type": "code",
   "execution_count": 13,
   "metadata": {},
   "outputs": [],
   "source": [
    "data['simuContigLength'].cat.reorder_categories(['500-1000',\n",
    "                                                 '1000-2000',\n",
    "                                                 '2000-5000',\n",
    "                                                 '5000-10000', \n",
    "                                                 '10000-20000',\n",
    "                                                 '20000-50000',\n",
    "                                                 '50000-100000',\n",
    "                                                 '100000-200000', \n",
    "                                                 '200000-500000'], inplace=True)"
   ]
  },
  {
   "cell_type": "code",
   "execution_count": 14,
   "metadata": {},
   "outputs": [],
   "source": [
    "data['simuCov'].cat.reorder_categories(['1-2',\n",
    "                                        '2-3',\n",
    "                                        '3-5',\n",
    "                                        '5-10',\n",
    "                                        '10-20',\n",
    "                                        '20-50',\n",
    "                                        '50-100',\n",
    "                                        '100-200', \n",
    "                                        '200-500'], inplace=True)"
   ]
  },
  {
   "cell_type": "markdown",
   "metadata": {},
   "source": [
    "## Model formula"
   ]
  },
  {
   "cell_type": "code",
   "execution_count": 15,
   "metadata": {},
   "outputs": [],
   "source": [
    "formula = 'sig ~ damage + C(simuCov) + C(simuContigLength) + GCcontent'"
   ]
  },
  {
   "cell_type": "markdown",
   "metadata": {},
   "source": [
    "## Creating the GLM logistic model"
   ]
  },
  {
   "cell_type": "code",
   "execution_count": 16,
   "metadata": {},
   "outputs": [],
   "source": [
    "model_call = smf.glm(formula= formula, data=data, family=sm.families.Binomial())"
   ]
  },
  {
   "cell_type": "code",
   "execution_count": 17,
   "metadata": {},
   "outputs": [],
   "source": [
    "model = model_call.fit()"
   ]
  },
  {
   "cell_type": "code",
   "execution_count": 18,
   "metadata": {},
   "outputs": [
    {
     "name": "stdout",
     "output_type": "stream",
     "text": [
      "                      Generalized Linear Model Regression Results                      \n",
      "=======================================================================================\n",
      "Dep. Variable:     ['sig[True]', 'sig[False]']   No. Observations:                70645\n",
      "Model:                                     GLM   Df Residuals:                    70626\n",
      "Model Family:                         Binomial   Df Model:                           18\n",
      "Link Function:                           logit   Scale:                          1.0000\n",
      "Method:                                   IRLS   Log-Likelihood:                -15525.\n",
      "Date:                         Fri, 18 Sep 2020   Deviance:                       31050.\n",
      "Time:                                 08:24:45   Pearson chi2:                 1.73e+05\n",
      "No. Iterations:                              8                                         \n",
      "Covariance Type:                     nonrobust                                         \n",
      "========================================================================================================\n",
      "                                           coef    std err          z      P>|z|      [0.025      0.975]\n",
      "--------------------------------------------------------------------------------------------------------\n",
      "Intercept                               -9.1621      0.183    -50.016      0.000      -9.521      -8.803\n",
      "C(simuCov)[T.2-3]                        0.7468      0.054     13.924      0.000       0.642       0.852\n",
      "C(simuCov)[T.3-5]                        1.3981      0.055     25.474      0.000       1.291       1.506\n",
      "C(simuCov)[T.5-10]                       2.2330      0.057     38.866      0.000       2.120       2.346\n",
      "C(simuCov)[T.10-20]                      3.3370      0.062     53.428      0.000       3.215       3.459\n",
      "C(simuCov)[T.20-50]                      4.5059      0.069     64.972      0.000       4.370       4.642\n",
      "C(simuCov)[T.50-100]                     5.7407      0.078     73.768      0.000       5.588       5.893\n",
      "C(simuCov)[T.100-200]                    6.5941      0.085     77.519      0.000       6.427       6.761\n",
      "C(simuCov)[T.200-500]                    7.7583      0.101     76.530      0.000       7.560       7.957\n",
      "C(simuContigLength)[T.1000-2000]         1.0341      0.054     19.202      0.000       0.929       1.140\n",
      "C(simuContigLength)[T.2000-5000]         2.4462      0.058     42.121      0.000       2.332       2.560\n",
      "C(simuContigLength)[T.5000-10000]        3.6877      0.064     57.770      0.000       3.563       3.813\n",
      "C(simuContigLength)[T.10000-20000]       4.6282      0.068     67.860      0.000       4.495       4.762\n",
      "C(simuContigLength)[T.20000-50000]       5.6668      0.074     77.083      0.000       5.523       5.811\n",
      "C(simuContigLength)[T.50000-100000]      6.7522      0.081     83.384      0.000       6.593       6.911\n",
      "C(simuContigLength)[T.100000-200000]     7.8478      0.095     82.576      0.000       7.662       8.034\n",
      "C(simuContigLength)[T.200000-500000]     9.0220      0.128     70.229      0.000       8.770       9.274\n",
      "damage                                  36.5989      0.429     85.239      0.000      35.757      37.440\n",
      "GCcontent                                3.8624      0.333     11.611      0.000       3.210       4.514\n",
      "========================================================================================================\n"
     ]
    }
   ],
   "source": [
    "print(model.summary())"
   ]
  },
  {
   "cell_type": "markdown",
   "metadata": {},
   "source": [
    "### Saving the model"
   ]
  },
  {
   "cell_type": "code",
   "execution_count": 19,
   "metadata": {},
   "outputs": [],
   "source": [
    "with open(\"../models/accuracy_model_python.pickle\", 'wb') as mod:\n",
    "    pickle.dump(model, mod)"
   ]
  },
  {
   "cell_type": "markdown",
   "metadata": {},
   "source": [
    "### Test data"
   ]
  },
  {
   "cell_type": "code",
   "execution_count": 20,
   "metadata": {},
   "outputs": [],
   "source": [
    "d = pd.Series(['200-500','1000-2000','0.03','0.56']).to_frame(name='NZ_JHCB02000014.1').transpose()"
   ]
  },
  {
   "cell_type": "code",
   "execution_count": 21,
   "metadata": {},
   "outputs": [],
   "source": [
    "d.columns = ['simuCov','simuContigLength','damage','GCcontent']\n",
    "d = d.astype({'simuCov':'category','simuContigLength':'category', 'damage':float, 'GCcontent':float})"
   ]
  },
  {
   "cell_type": "code",
   "execution_count": 22,
   "metadata": {},
   "outputs": [],
   "source": [
    "d['simuCov'] = d['simuCov'].cat.set_categories(['1-2',\n",
    "                                        '2-3',\n",
    "                                        '3-5',\n",
    "                                        '5-10',\n",
    "                                        '10-20',\n",
    "                                        '20-50',\n",
    "                                        '50-100',\n",
    "                                        '100-200', \n",
    "                                        '200-500'])\n",
    "d['simuContigLength'] = d['simuContigLength'].cat.set_categories(['500-1000',\n",
    "                                                 '1000-2000',\n",
    "                                                 '2000-5000',\n",
    "                                                 '5000-10000', \n",
    "                                                 '10000-20000',\n",
    "                                                 '20000-50000',\n",
    "                                                 '50000-100000',\n",
    "                                                 '100000-200000', \n",
    "                                                 '200000-500000'])"
   ]
  },
  {
   "cell_type": "code",
   "execution_count": 23,
   "metadata": {},
   "outputs": [
    {
     "data": {
      "text/html": [
       "<div>\n",
       "<style scoped>\n",
       "    .dataframe tbody tr th:only-of-type {\n",
       "        vertical-align: middle;\n",
       "    }\n",
       "\n",
       "    .dataframe tbody tr th {\n",
       "        vertical-align: top;\n",
       "    }\n",
       "\n",
       "    .dataframe thead th {\n",
       "        text-align: right;\n",
       "    }\n",
       "</style>\n",
       "<table border=\"1\" class=\"dataframe\">\n",
       "  <thead>\n",
       "    <tr style=\"text-align: right;\">\n",
       "      <th></th>\n",
       "      <th>simuCov</th>\n",
       "      <th>simuContigLength</th>\n",
       "      <th>damage</th>\n",
       "      <th>GCcontent</th>\n",
       "    </tr>\n",
       "  </thead>\n",
       "  <tbody>\n",
       "    <tr>\n",
       "      <th>NZ_JHCB02000014.1</th>\n",
       "      <td>200-500</td>\n",
       "      <td>1000-2000</td>\n",
       "      <td>0.03</td>\n",
       "      <td>0.56</td>\n",
       "    </tr>\n",
       "  </tbody>\n",
       "</table>\n",
       "</div>"
      ],
      "text/plain": [
       "                   simuCov simuContigLength  damage  GCcontent\n",
       "NZ_JHCB02000014.1  200-500        1000-2000    0.03       0.56"
      ]
     },
     "execution_count": 23,
     "metadata": {},
     "output_type": "execute_result"
    }
   ],
   "source": [
    "d"
   ]
  },
  {
   "cell_type": "markdown",
   "metadata": {},
   "source": [
    "### Making inference on test data"
   ]
  },
  {
   "cell_type": "code",
   "execution_count": 25,
   "metadata": {},
   "outputs": [
    {
     "data": {
      "text/plain": [
       "NZ_JHCB02000014.1    0.947411\n",
       "dtype: float64"
      ]
     },
     "execution_count": 25,
     "metadata": {},
     "output_type": "execute_result"
    }
   ],
   "source": [
    "model.predict(d)"
   ]
  }
 ],
 "metadata": {
  "kernelspec": {
   "display_name": "Python 3",
   "language": "python",
   "name": "python3"
  },
  "language_info": {
   "codemirror_mode": {
    "name": "ipython",
    "version": 3
   },
   "file_extension": ".py",
   "mimetype": "text/x-python",
   "name": "python",
   "nbconvert_exporter": "python",
   "pygments_lexer": "ipython3",
   "version": "3.8.5"
  }
 },
 "nbformat": 4,
 "nbformat_minor": 4
}
