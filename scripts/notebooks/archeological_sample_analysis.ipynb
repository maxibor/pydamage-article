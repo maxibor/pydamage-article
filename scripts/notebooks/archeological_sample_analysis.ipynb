{
 "cells": [
  {
   "cell_type": "code",
   "execution_count": 1,
   "metadata": {},
   "outputs": [],
   "source": [
    "import pandas as pd\n",
    "import seaborn as sns\n",
    "from pprint import pprint\n",
    "import matplotlib.pyplot as plt\n",
    "import numpy as np"
   ]
  },
  {
   "cell_type": "markdown",
   "metadata": {},
   "source": [
    "### Reading PyDamage results"
   ]
  },
  {
   "cell_type": "code",
   "execution_count": 2,
   "metadata": {},
   "outputs": [],
   "source": [
    "df = pd.read_csv(\"../../data/ZSM028.pydamage.csv\")"
   ]
  },
  {
   "cell_type": "markdown",
   "metadata": {},
   "source": [
    "Looking at the effect of pred_accuracy on the number of contigs filtered"
   ]
  },
  {
   "cell_type": "code",
   "execution_count": 3,
   "metadata": {},
   "outputs": [],
   "source": [
    "thresholds = [i.round(2) for i in np.arange(0,1,0.01)]"
   ]
  },
  {
   "cell_type": "code",
   "execution_count": 4,
   "metadata": {},
   "outputs": [],
   "source": [
    "nb_contigs = list()\n",
    "for i in thresholds:\n",
    "    nb_contigs.append(df.query(f\"pred_accuracy >= {i} & damage_model_p <= 0.6 & qvalue <= 0.05\").shape[0])"
   ]
  },
  {
   "cell_type": "markdown",
   "metadata": {},
   "source": [
    "Locating the [knee point](https://raghavan.usc.edu//papers/kneedle-simplex11.pdf): the optimal compromise  between sensitivity/specificity  \n",
    "Selecting on the stricly decreasing part of the curve"
   ]
  },
  {
   "cell_type": "code",
   "execution_count": 5,
   "metadata": {},
   "outputs": [],
   "source": [
    "from kneed import KneeLocator"
   ]
  },
  {
   "cell_type": "code",
   "execution_count": 6,
   "metadata": {},
   "outputs": [],
   "source": [
    "x = thresholds[40:] \n",
    "y = nb_contigs[40:]\n",
    "kneedle = KneeLocator(x,y, S=1.0, curve=\"convex\", direction=\"decreasing\")"
   ]
  },
  {
   "cell_type": "code",
   "execution_count": 7,
   "metadata": {},
   "outputs": [
    {
     "data": {
      "text/plain": [
       "0.67"
      ]
     },
     "execution_count": 7,
     "metadata": {},
     "output_type": "execute_result"
    }
   ],
   "source": [
    "kneedle.knee"
   ]
  },
  {
   "cell_type": "code",
   "execution_count": 8,
   "metadata": {},
   "outputs": [
    {
     "name": "stderr",
     "output_type": "stream",
     "text": [
      "/projects1/users/borry/15_miniconda3/envs/pydamage/lib/python3.7/site-packages/seaborn/_decorators.py:43: FutureWarning: Pass the following variables as keyword args: x, y. From version 0.12, the only valid positional argument will be `data`, and passing other arguments without an explicit keyword will result in an error or misinterpretation.\n",
      "  FutureWarning\n"
     ]
    },
    {
     "data": {
      "image/png": "[encoded data removed]",
      "text/plain": [
       "<Figure size 432x288 with 1 Axes>"
      ]
     },
     "metadata": {
      "needs_background": "light"
     },
     "output_type": "display_data"
    }
   ],
   "source": [
    "sns.lineplot(thresholds, nb_contigs)\n",
    "plt.axvline(x=kneedle.knee, color='red')\n",
    "plt.xlabel('predicted prediction accuracy')\n",
    "plt.ylabel('Number of contigs')\n",
    "plt.savefig(\"../../plots/prediction_accuracy_thresholds.png\", dpi=300)"
   ]
  },
  {
   "cell_type": "markdown",
   "metadata": {},
   "source": [
    "### Filtering\n",
    "- pred_accuracy >=0.9\n",
    "- damage_model_p <= 0.6\n",
    "- qvalue <= 0.05"
   ]
  },
  {
   "cell_type": "code",
   "execution_count": 9,
   "metadata": {},
   "outputs": [],
   "source": [
    "df2 = df.query(f\"pred_accuracy >= {kneedle.knee} & damage_model_p <= 0.6 & qvalue <= 0.05\")"
   ]
  },
  {
   "cell_type": "code",
   "execution_count": 10,
   "metadata": {},
   "outputs": [
    {
     "data": {
      "text/plain": [
       "0           NODE_1_length_90306_cov_44.173087\n",
       "1          NODE_1727_length_4002_cov_9.296689\n",
       "2        NODE_13347_length_1166_cov_17.544157\n",
       "3          NODE_1719_length_4030_cov_9.159097\n",
       "4         NODE_1715_length_4034_cov_11.607420\n",
       "                         ...                 \n",
       "17056      NODE_9809_length_1401_cov_3.139381\n",
       "17057     NODE_15388_length_1068_cov_3.272727\n",
       "17058     NODE_12892_length_1188_cov_4.479440\n",
       "17059     NODE_16059_length_1038_cov_4.948640\n",
       "17060     NODE_12514_length_1209_cov_4.230241\n",
       "Name: reference, Length: 17061, dtype: object"
      ]
     },
     "execution_count": 10,
     "metadata": {},
     "output_type": "execute_result"
    }
   ],
   "source": [
    "df['reference']"
   ]
  },
  {
   "cell_type": "code",
   "execution_count": 11,
   "metadata": {},
   "outputs": [],
   "source": [
    "non_damaged_contigs = set(df['reference']).difference(set((df2['reference'])))"
   ]
  },
  {
   "cell_type": "code",
   "execution_count": 12,
   "metadata": {},
   "outputs": [
    {
     "data": {
      "text/plain": [
       "0           NODE_1_length_90306_cov_44.173087\n",
       "1          NODE_1727_length_4002_cov_9.296689\n",
       "2        NODE_13347_length_1166_cov_17.544157\n",
       "4         NODE_1715_length_4034_cov_11.607420\n",
       "6         NODE_1711_length_4038_cov_11.491610\n",
       "                         ...                 \n",
       "12388     NODE_14800_length_1097_cov_2.879278\n",
       "12480     NODE_17015_length_1003_cov_4.072025\n",
       "12533     NODE_9664_length_1414_cov_24.268079\n",
       "12622      NODE_6752_length_1752_cov_6.673111\n",
       "12682      NODE_6672_length_1763_cov_4.934226\n",
       "Name: reference, Length: 1944, dtype: object"
      ]
     },
     "execution_count": 12,
     "metadata": {},
     "output_type": "execute_result"
    }
   ],
   "source": [
    "df2.reference.drop_duplicates()"
   ]
  },
  {
   "cell_type": "markdown",
   "metadata": {},
   "source": [
    "### Distribution of the damage on the first base"
   ]
  },
  {
   "cell_type": "code",
   "execution_count": 13,
   "metadata": {},
   "outputs": [
    {
     "data": {
      "text/plain": [
       "<AxesSubplot:ylabel='Frequency'>"
      ]
     },
     "execution_count": 13,
     "metadata": {},
     "output_type": "execute_result"
    },
    {
     "data": {
      "image/png": "[encoded data removed]",
      "text/plain": [
       "<Figure size 432x288 with 1 Axes>"
      ]
     },
     "metadata": {
      "needs_background": "light"
     },
     "output_type": "display_data"
    }
   ],
   "source": [
    "df2['damage_model_pmax'].plot.hist()"
   ]
  },
  {
   "cell_type": "markdown",
   "metadata": {},
   "source": [
    "## Prokka functional annotation"
   ]
  },
  {
   "cell_type": "markdown",
   "metadata": {},
   "source": [
    "Reading the Prokka results"
   ]
  },
  {
   "cell_type": "code",
   "execution_count": 14,
   "metadata": {},
   "outputs": [],
   "source": [
    "prokka_dict = {}\n",
    "with open(\"../../results/prokka/ZSM028.tbl\", 'r') as f:\n",
    "    i = 0\n",
    "    for line in f:\n",
    "        i += 1\n",
    "        if line.startswith(\">\"):\n",
    "            seqname = line.split()[1]\n",
    "        elif \"\t\t\tlocus_tag\" in line:\n",
    "            locus = line.split()[1]\n",
    "            prokka_dict[locus] = {'sequence':seqname}\n",
    "        elif \"\t\t\tproduct\" in line:\n",
    "            prokka_dict[locus]['product'] = \" \".join(line.split()[1:])"
   ]
  },
  {
   "cell_type": "code",
   "execution_count": 15,
   "metadata": {},
   "outputs": [],
   "source": [
    "prokka = pd.DataFrame(prokka_dict).transpose()"
   ]
  },
  {
   "cell_type": "code",
   "execution_count": 16,
   "metadata": {},
   "outputs": [
    {
     "data": {
      "text/html": [
       "<div>\n",
       "<style scoped>\n",
       "    .dataframe tbody tr th:only-of-type {\n",
       "        vertical-align: middle;\n",
       "    }\n",
       "\n",
       "    .dataframe tbody tr th {\n",
       "        vertical-align: top;\n",
       "    }\n",
       "\n",
       "    .dataframe thead th {\n",
       "        text-align: right;\n",
       "    }\n",
       "</style>\n",
       "<table border=\"1\" class=\"dataframe\">\n",
       "  <thead>\n",
       "    <tr style=\"text-align: right;\">\n",
       "      <th></th>\n",
       "      <th>sequence</th>\n",
       "      <th>product</th>\n",
       "    </tr>\n",
       "  </thead>\n",
       "  <tbody>\n",
       "    <tr>\n",
       "      <th>ILPPLFEM_00001</th>\n",
       "      <td>NODE_1_length_90306_cov_44.173087</td>\n",
       "      <td>hypothetical protein</td>\n",
       "    </tr>\n",
       "    <tr>\n",
       "      <th>ILPPLFEM_00002</th>\n",
       "      <td>NODE_1_length_90306_cov_44.173087</td>\n",
       "      <td>hypothetical protein</td>\n",
       "    </tr>\n",
       "    <tr>\n",
       "      <th>ILPPLFEM_00003</th>\n",
       "      <td>NODE_1_length_90306_cov_44.173087</td>\n",
       "      <td>hypothetical protein</td>\n",
       "    </tr>\n",
       "    <tr>\n",
       "      <th>ILPPLFEM_00004</th>\n",
       "      <td>NODE_1_length_90306_cov_44.173087</td>\n",
       "      <td>hypothetical protein</td>\n",
       "    </tr>\n",
       "    <tr>\n",
       "      <th>ILPPLFEM_00005</th>\n",
       "      <td>NODE_1_length_90306_cov_44.173087</td>\n",
       "      <td>hypothetical protein</td>\n",
       "    </tr>\n",
       "  </tbody>\n",
       "</table>\n",
       "</div>"
      ],
      "text/plain": [
       "                                         sequence               product\n",
       "ILPPLFEM_00001  NODE_1_length_90306_cov_44.173087  hypothetical protein\n",
       "ILPPLFEM_00002  NODE_1_length_90306_cov_44.173087  hypothetical protein\n",
       "ILPPLFEM_00003  NODE_1_length_90306_cov_44.173087  hypothetical protein\n",
       "ILPPLFEM_00004  NODE_1_length_90306_cov_44.173087  hypothetical protein\n",
       "ILPPLFEM_00005  NODE_1_length_90306_cov_44.173087  hypothetical protein"
      ]
     },
     "execution_count": 16,
     "metadata": {},
     "output_type": "execute_result"
    }
   ],
   "source": [
    "prokka.head()"
   ]
  },
  {
   "cell_type": "code",
   "execution_count": 17,
   "metadata": {},
   "outputs": [
    {
     "data": {
      "text/plain": [
       "(9301, 2)"
      ]
     },
     "execution_count": 17,
     "metadata": {},
     "output_type": "execute_result"
    }
   ],
   "source": [
    "prokka.shape"
   ]
  },
  {
   "cell_type": "markdown",
   "metadata": {},
   "source": [
    "Combinining prokka and PyDamage results"
   ]
  },
  {
   "cell_type": "code",
   "execution_count": 18,
   "metadata": {},
   "outputs": [],
   "source": [
    "df3 = df2.merge(prokka, left_on='reference', right_on='sequence')"
   ]
  },
  {
   "cell_type": "code",
   "execution_count": 19,
   "metadata": {},
   "outputs": [],
   "source": [
    "prokka_contigs = df2.merge(prokka, left_on='reference', right_on='sequence', how='right').query(\"product != 'hypothetical protein'\")['reference'].drop_duplicates()"
   ]
  },
  {
   "cell_type": "code",
   "execution_count": 20,
   "metadata": {},
   "outputs": [
    {
     "data": {
      "text/plain": [
       "(1901,)"
      ]
     },
     "execution_count": 20,
     "metadata": {},
     "output_type": "execute_result"
    }
   ],
   "source": [
    "df2.merge(prokka, left_on='reference', right_on='sequence', how='right')['reference'].drop_duplicates().shape"
   ]
  },
  {
   "cell_type": "markdown",
   "metadata": {},
   "source": [
    "Looking for contigs with potential resistance"
   ]
  },
  {
   "cell_type": "code",
   "execution_count": 21,
   "metadata": {},
   "outputs": [],
   "source": [
    "contig_of_interest = df3.query(\"product.str.contains('resistance')\", engine='python')"
   ]
  },
  {
   "cell_type": "code",
   "execution_count": 22,
   "metadata": {},
   "outputs": [
    {
     "name": "stderr",
     "output_type": "stream",
     "text": [
      "/projects1/users/borry/15_miniconda3/envs/pydamage/lib/python3.7/site-packages/ipykernel_launcher.py:1: SettingWithCopyWarning: \n",
      "A value is trying to be set on a copy of a slice from a DataFrame.\n",
      "Try using .loc[row_indexer,col_indexer] = value instead\n",
      "\n",
      "See the caveats in the documentation: https://pandas.pydata.org/pandas-docs/stable/user_guide/indexing.html#returning-a-view-versus-a-copy\n",
      "  \"\"\"Entry point for launching an IPython kernel.\n"
     ]
    }
   ],
   "source": [
    "contig_of_interest['reference'] = contig_of_interest[['reference','reflen','coverage','product']]['reference'].str.split(\"_\", expand=True)[[0,1]].agg('_'.join, axis=1)"
   ]
  },
  {
   "cell_type": "code",
   "execution_count": 23,
   "metadata": {},
   "outputs": [
    {
     "data": {
      "text/html": [
       "<div>\n",
       "<style scoped>\n",
       "    .dataframe tbody tr th:only-of-type {\n",
       "        vertical-align: middle;\n",
       "    }\n",
       "\n",
       "    .dataframe tbody tr th {\n",
       "        vertical-align: top;\n",
       "    }\n",
       "\n",
       "    .dataframe thead th {\n",
       "        text-align: right;\n",
       "    }\n",
       "</style>\n",
       "<table border=\"1\" class=\"dataframe\">\n",
       "  <thead>\n",
       "    <tr style=\"text-align: right;\">\n",
       "      <th></th>\n",
       "      <th>reference</th>\n",
       "      <th>reflen</th>\n",
       "      <th>coverage</th>\n",
       "      <th>product</th>\n",
       "    </tr>\n",
       "  </thead>\n",
       "  <tbody>\n",
       "    <tr>\n",
       "      <th>158</th>\n",
       "      <td>NODE_1676</td>\n",
       "      <td>4090</td>\n",
       "      <td>81.343</td>\n",
       "      <td>Fosmidomycin resistance protein</td>\n",
       "    </tr>\n",
       "    <tr>\n",
       "      <th>1563</th>\n",
       "      <td>NODE_2661</td>\n",
       "      <td>3058</td>\n",
       "      <td>91.480</td>\n",
       "      <td>Colistin resistance protein EmrA</td>\n",
       "    </tr>\n",
       "    <tr>\n",
       "      <th>1564</th>\n",
       "      <td>NODE_2661</td>\n",
       "      <td>3058</td>\n",
       "      <td>91.480</td>\n",
       "      <td>Colistin resistance protein EmrA</td>\n",
       "    </tr>\n",
       "    <tr>\n",
       "      <th>2411</th>\n",
       "      <td>NODE_215</td>\n",
       "      <td>13020</td>\n",
       "      <td>27.037</td>\n",
       "      <td>Daunorubicin/doxorubicin resistance ATP-bindin...</td>\n",
       "    </tr>\n",
       "    <tr>\n",
       "      <th>2631</th>\n",
       "      <td>NODE_204</td>\n",
       "      <td>13262</td>\n",
       "      <td>44.908</td>\n",
       "      <td>Tetracycline resistance protein, class C</td>\n",
       "    </tr>\n",
       "    <tr>\n",
       "      <th>2783</th>\n",
       "      <td>NODE_232</td>\n",
       "      <td>12485</td>\n",
       "      <td>31.866</td>\n",
       "      <td>Multidrug resistance protein MdtC</td>\n",
       "    </tr>\n",
       "    <tr>\n",
       "      <th>2784</th>\n",
       "      <td>NODE_232</td>\n",
       "      <td>12485</td>\n",
       "      <td>31.866</td>\n",
       "      <td>Multidrug resistance protein MdtA</td>\n",
       "    </tr>\n",
       "    <tr>\n",
       "      <th>3102</th>\n",
       "      <td>NODE_465</td>\n",
       "      <td>8695</td>\n",
       "      <td>37.516</td>\n",
       "      <td>Tetracycline resistance protein TetO</td>\n",
       "    </tr>\n",
       "    <tr>\n",
       "      <th>3985</th>\n",
       "      <td>NODE_832</td>\n",
       "      <td>6259</td>\n",
       "      <td>46.317</td>\n",
       "      <td>Cobalt-zinc-cadmium resistance protein CzcA</td>\n",
       "    </tr>\n",
       "    <tr>\n",
       "      <th>3986</th>\n",
       "      <td>NODE_832</td>\n",
       "      <td>6259</td>\n",
       "      <td>46.317</td>\n",
       "      <td>Cobalt-zinc-cadmium resistance protein CzcB</td>\n",
       "    </tr>\n",
       "    <tr>\n",
       "      <th>4566</th>\n",
       "      <td>NODE_97</td>\n",
       "      <td>19553</td>\n",
       "      <td>27.428</td>\n",
       "      <td>Multidrug resistance protein MdtA</td>\n",
       "    </tr>\n",
       "    <tr>\n",
       "      <th>4567</th>\n",
       "      <td>NODE_97</td>\n",
       "      <td>19553</td>\n",
       "      <td>27.428</td>\n",
       "      <td>Multidrug resistance protein MdtB</td>\n",
       "    </tr>\n",
       "    <tr>\n",
       "      <th>4568</th>\n",
       "      <td>NODE_97</td>\n",
       "      <td>19553</td>\n",
       "      <td>27.428</td>\n",
       "      <td>Multidrug resistance protein MdtB</td>\n",
       "    </tr>\n",
       "    <tr>\n",
       "      <th>4897</th>\n",
       "      <td>NODE_17</td>\n",
       "      <td>41269</td>\n",
       "      <td>29.890</td>\n",
       "      <td>Multidrug resistance protein MdtK</td>\n",
       "    </tr>\n",
       "    <tr>\n",
       "      <th>5401</th>\n",
       "      <td>NODE_12</td>\n",
       "      <td>45672</td>\n",
       "      <td>45.632</td>\n",
       "      <td>Multidrug resistance protein MdtC</td>\n",
       "    </tr>\n",
       "    <tr>\n",
       "      <th>5402</th>\n",
       "      <td>NODE_12</td>\n",
       "      <td>45672</td>\n",
       "      <td>45.632</td>\n",
       "      <td>Multidrug resistance protein MdtA</td>\n",
       "    </tr>\n",
       "    <tr>\n",
       "      <th>5834</th>\n",
       "      <td>NODE_10</td>\n",
       "      <td>46280</td>\n",
       "      <td>59.817</td>\n",
       "      <td>Multidrug resistance protein MdtA</td>\n",
       "    </tr>\n",
       "    <tr>\n",
       "      <th>5835</th>\n",
       "      <td>NODE_10</td>\n",
       "      <td>46280</td>\n",
       "      <td>59.817</td>\n",
       "      <td>Multidrug resistance protein MdtC</td>\n",
       "    </tr>\n",
       "    <tr>\n",
       "      <th>6264</th>\n",
       "      <td>NODE_29</td>\n",
       "      <td>35207</td>\n",
       "      <td>27.752</td>\n",
       "      <td>Multidrug resistance ABC transporter ATP-bindi...</td>\n",
       "    </tr>\n",
       "    <tr>\n",
       "      <th>6715</th>\n",
       "      <td>NODE_45</td>\n",
       "      <td>28638</td>\n",
       "      <td>26.017</td>\n",
       "      <td>Bifunctional polymyxin resistance protein ArnA</td>\n",
       "    </tr>\n",
       "    <tr>\n",
       "      <th>7430</th>\n",
       "      <td>NODE_136</td>\n",
       "      <td>16294</td>\n",
       "      <td>26.013</td>\n",
       "      <td>Daunorubicin/doxorubicin resistance ATP-bindin...</td>\n",
       "    </tr>\n",
       "    <tr>\n",
       "      <th>7849</th>\n",
       "      <td>NODE_8410</td>\n",
       "      <td>1542</td>\n",
       "      <td>77.318</td>\n",
       "      <td>Linearmycin resistance ATP-binding protein LnrL</td>\n",
       "    </tr>\n",
       "    <tr>\n",
       "      <th>8360</th>\n",
       "      <td>NODE_2446</td>\n",
       "      <td>3232</td>\n",
       "      <td>64.322</td>\n",
       "      <td>Arsenical-resistance protein Acr3</td>\n",
       "    </tr>\n",
       "  </tbody>\n",
       "</table>\n",
       "</div>"
      ],
      "text/plain": [
       "      reference  reflen  coverage  \\\n",
       "158   NODE_1676    4090    81.343   \n",
       "1563  NODE_2661    3058    91.480   \n",
       "1564  NODE_2661    3058    91.480   \n",
       "2411   NODE_215   13020    27.037   \n",
       "2631   NODE_204   13262    44.908   \n",
       "2783   NODE_232   12485    31.866   \n",
       "2784   NODE_232   12485    31.866   \n",
       "3102   NODE_465    8695    37.516   \n",
       "3985   NODE_832    6259    46.317   \n",
       "3986   NODE_832    6259    46.317   \n",
       "4566    NODE_97   19553    27.428   \n",
       "4567    NODE_97   19553    27.428   \n",
       "4568    NODE_97   19553    27.428   \n",
       "4897    NODE_17   41269    29.890   \n",
       "5401    NODE_12   45672    45.632   \n",
       "5402    NODE_12   45672    45.632   \n",
       "5834    NODE_10   46280    59.817   \n",
       "5835    NODE_10   46280    59.817   \n",
       "6264    NODE_29   35207    27.752   \n",
       "6715    NODE_45   28638    26.017   \n",
       "7430   NODE_136   16294    26.013   \n",
       "7849  NODE_8410    1542    77.318   \n",
       "8360  NODE_2446    3232    64.322   \n",
       "\n",
       "                                                product  \n",
       "158                     Fosmidomycin resistance protein  \n",
       "1563                   Colistin resistance protein EmrA  \n",
       "1564                   Colistin resistance protein EmrA  \n",
       "2411  Daunorubicin/doxorubicin resistance ATP-bindin...  \n",
       "2631           Tetracycline resistance protein, class C  \n",
       "2783                  Multidrug resistance protein MdtC  \n",
       "2784                  Multidrug resistance protein MdtA  \n",
       "3102               Tetracycline resistance protein TetO  \n",
       "3985        Cobalt-zinc-cadmium resistance protein CzcA  \n",
       "3986        Cobalt-zinc-cadmium resistance protein CzcB  \n",
       "4566                  Multidrug resistance protein MdtA  \n",
       "4567                  Multidrug resistance protein MdtB  \n",
       "4568                  Multidrug resistance protein MdtB  \n",
       "4897                  Multidrug resistance protein MdtK  \n",
       "5401                  Multidrug resistance protein MdtC  \n",
       "5402                  Multidrug resistance protein MdtA  \n",
       "5834                  Multidrug resistance protein MdtA  \n",
       "5835                  Multidrug resistance protein MdtC  \n",
       "6264  Multidrug resistance ABC transporter ATP-bindi...  \n",
       "6715     Bifunctional polymyxin resistance protein ArnA  \n",
       "7430  Daunorubicin/doxorubicin resistance ATP-bindin...  \n",
       "7849    Linearmycin resistance ATP-binding protein LnrL  \n",
       "8360                  Arsenical-resistance protein Acr3  "
      ]
     },
     "execution_count": 23,
     "metadata": {},
     "output_type": "execute_result"
    }
   ],
   "source": [
    "contig_of_interest[['reference','reflen','coverage','product']]"
   ]
  },
  {
   "cell_type": "code",
   "execution_count": 24,
   "metadata": {},
   "outputs": [
    {
     "data": {
      "text/plain": [
       "(23, 4)"
      ]
     },
     "execution_count": 24,
     "metadata": {},
     "output_type": "execute_result"
    }
   ],
   "source": [
    "contig_of_interest[['reference','reflen','coverage','product']].shape"
   ]
  },
  {
   "cell_type": "code",
   "execution_count": 25,
   "metadata": {},
   "outputs": [],
   "source": [
    "contig_of_interest[['reference','reflen','coverage','product']].to_csv(\"../../results/prokka/resistance_damaged_genes.csv\")"
   ]
  },
  {
   "cell_type": "markdown",
   "metadata": {},
   "source": [
    "## General Summary statistics"
   ]
  },
  {
   "cell_type": "markdown",
   "metadata": {},
   "source": [
    "- Damage on 5' end"
   ]
  },
  {
   "cell_type": "code",
   "execution_count": 26,
   "metadata": {},
   "outputs": [
    {
     "data": {
      "text/plain": [
       "count    1944.000000\n",
       "mean        0.142951\n",
       "std         0.069033\n",
       "min         0.040000\n",
       "25%         0.095000\n",
       "50%         0.121500\n",
       "75%         0.173000\n",
       "max         0.451000\n",
       "Name: damage_model_pmax, dtype: float64"
      ]
     },
     "execution_count": 26,
     "metadata": {},
     "output_type": "execute_result"
    }
   ],
   "source": [
    "df2['damage_model_pmax'].describe()"
   ]
  },
  {
   "cell_type": "markdown",
   "metadata": {},
   "source": [
    "- Coverage"
   ]
  },
  {
   "cell_type": "code",
   "execution_count": 27,
   "metadata": {},
   "outputs": [
    {
     "data": {
      "text/plain": [
       "count    1944.000000\n",
       "mean       65.560986\n",
       "std        60.812019\n",
       "min         6.052000\n",
       "25%        31.733250\n",
       "50%        58.992500\n",
       "75%        80.330000\n",
       "max      1579.827000\n",
       "Name: coverage, dtype: float64"
      ]
     },
     "execution_count": 27,
     "metadata": {},
     "output_type": "execute_result"
    }
   ],
   "source": [
    "df2['coverage'].describe()"
   ]
  },
  {
   "cell_type": "markdown",
   "metadata": {},
   "source": [
    "- reference length"
   ]
  },
  {
   "cell_type": "code",
   "execution_count": 28,
   "metadata": {},
   "outputs": [
    {
     "data": {
      "text/plain": [
       "count     1944.000000\n",
       "mean      5212.139403\n",
       "std       7650.269197\n",
       "min       1002.000000\n",
       "25%       1490.000000\n",
       "50%       2391.000000\n",
       "75%       5374.500000\n",
       "max      90306.000000\n",
       "Name: reflen, dtype: float64"
      ]
     },
     "execution_count": 28,
     "metadata": {},
     "output_type": "execute_result"
    }
   ],
   "source": [
    "df2['reflen'].describe()"
   ]
  },
  {
   "cell_type": "code",
   "execution_count": 29,
   "metadata": {},
   "outputs": [],
   "source": [
    "def n50(list_of_lengths):\n",
    "    \"\"\"Calculate N50 for a sequence of numbers.\n",
    " \n",
    "    Args:\n",
    "        list_of_lengths (list): List of numbers.\n",
    " \n",
    "    Returns:\n",
    "        float: N50 value.\n",
    " \n",
    "    \"\"\"\n",
    "    tmp = []\n",
    "    for tmp_number in set(list_of_lengths):\n",
    "            tmp += [tmp_number] * list_of_lengths.count(tmp_number) * tmp_number\n",
    "    tmp.sort()\n",
    " \n",
    "    if (len(tmp) % 2) == 0:\n",
    "        median = (tmp[int(len(tmp) / 2) - 1] + tmp[int(len(tmp) / 2)]) / 2\n",
    "    else:\n",
    "        median = tmp[int(len(tmp) / 2)]\n",
    " \n",
    "    return median"
   ]
  },
  {
   "cell_type": "markdown",
   "metadata": {},
   "source": [
    "- N50"
   ]
  },
  {
   "cell_type": "code",
   "execution_count": 30,
   "metadata": {},
   "outputs": [
    {
     "data": {
      "text/plain": [
       "10805"
      ]
     },
     "execution_count": 30,
     "metadata": {},
     "output_type": "execute_result"
    }
   ],
   "source": [
    "n50(list(df2['reflen'].values))"
   ]
  },
  {
   "cell_type": "code",
   "execution_count": 31,
   "metadata": {},
   "outputs": [],
   "source": [
    "c2t_cols = [f\"CtoT-{i}\" for i in range(36)]"
   ]
  },
  {
   "cell_type": "markdown",
   "metadata": {},
   "source": [
    "### Plotting all damage profiles for filtered contigs"
   ]
  },
  {
   "cell_type": "code",
   "execution_count": 32,
   "metadata": {},
   "outputs": [],
   "source": [
    "damage_mean = df2.loc[:,c2t_cols].mean().to_numpy()\n",
    "damage_sd = df2.loc[:,c2t_cols].std().to_numpy()"
   ]
  },
  {
   "cell_type": "code",
   "execution_count": 33,
   "metadata": {},
   "outputs": [
    {
     "data": {
      "image/png": "[encoded data removed]",
      "text/plain": [
       "<Figure size 432x288 with 1 Axes>"
      ]
     },
     "metadata": {
      "needs_background": "light"
     },
     "output_type": "display_data"
    }
   ],
   "source": [
    "import numpy as np\n",
    "\n",
    "lower_bound = damage_mean - damage_sd\n",
    "upper_bound = damage_mean + damage_sd\n",
    "\n",
    "x_axis = range(36)\n",
    "\n",
    "sns.lineplot(x=x_axis, y=damage_mean)\n",
    "plt.fill_between(x_axis, lower_bound, upper_bound, alpha=.3)\n",
    "plt.xlabel(\"position from 5' end(bp)\")\n",
    "plt.ylabel(\"C to T transitions\")\n",
    "plt.savefig(\"../../plots/contigs_damage.png\", dpi=300)"
   ]
  },
  {
   "cell_type": "markdown",
   "metadata": {},
   "source": [
    "Plotting all damage profiles for non filtered contigs"
   ]
  },
  {
   "cell_type": "code",
   "execution_count": 34,
   "metadata": {},
   "outputs": [],
   "source": [
    "non_damage = df.query(\"qvalue > 0.05\").loc[:,c2t_cols]"
   ]
  },
  {
   "cell_type": "code",
   "execution_count": 35,
   "metadata": {},
   "outputs": [],
   "source": [
    "non_damage = df.query(\"reference in @non_damaged_contigs\").loc[:,c2t_cols]"
   ]
  },
  {
   "cell_type": "code",
   "execution_count": 36,
   "metadata": {},
   "outputs": [],
   "source": [
    "non_damage_mean = df.query(\"qvalue > 0.05\").loc[:,c2t_cols].mean().to_numpy()\n",
    "non_damage_sd = df.query(\"qvalue > 0.05\").loc[:,c2t_cols].std().to_numpy()"
   ]
  },
  {
   "cell_type": "code",
   "execution_count": 37,
   "metadata": {},
   "outputs": [
    {
     "data": {
      "image/png": "[encoded data removed]",
      "text/plain": [
       "<Figure size 432x288 with 1 Axes>"
      ]
     },
     "metadata": {
      "needs_background": "light"
     },
     "output_type": "display_data"
    }
   ],
   "source": [
    "lower_bound = non_damage_mean - non_damage_sd\n",
    "upper_bound = non_damage_mean + non_damage_sd\n",
    "\n",
    "sns.lineplot(x=x_axis, y=damage_mean)\n",
    "plt.fill_between(x_axis, lower_bound, upper_bound, alpha=.3)\n",
    "plt.xlabel(\"position from 5' end(bp)\")\n",
    "plt.ylabel(\"C to T transitions\")\n",
    "plt.savefig(\"../../plots/contigs_non_damage.png\", dpi=300)"
   ]
  }
 ],
 "metadata": {
  "kernelspec": {
   "display_name": "Python [conda env:pydamage]",
   "language": "python",
   "name": "conda-env-pydamage-py"
  },
  "language_info": {
   "codemirror_mode": {
    "name": "ipython",
    "version": 3
   },
   "file_extension": ".py",
   "mimetype": "text/x-python",
   "name": "python",
   "nbconvert_exporter": "python",
   "pygments_lexer": "ipython3",
   "version": "3.7.9"
  },
  "toc-autonumbering": false,
  "toc-showmarkdowntxt": false,
  "toc-showtags": false
 },
 "nbformat": 4,
 "nbformat_minor": 4
}
