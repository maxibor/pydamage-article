{
 "cells": [
  {
   "cell_type": "code",
   "execution_count": 1,
   "metadata": {},
   "outputs": [],
   "source": [
    "import pandas as pd\n",
    "import statsmodels.api as sm\n",
    "import statsmodels.formula.api as smf\n",
    "import os\n",
    "import pickle\n",
    "import patsy\n",
    "import numpy as np\n",
    "import pickle\n",
    "from xopen import xopen"
   ]
  },
  {
   "cell_type": "code",
   "execution_count": 12,
   "metadata": {},
   "outputs": [],
   "source": [
    "data = pd.read_csv(\"../../data/PYD_simulation_results.csv.gz\", compression='gzip', sep=\"\\t\")"
   ]
  },
  {
   "cell_type": "code",
   "execution_count": 13,
   "metadata": {},
   "outputs": [
    {
     "data": {
      "text/plain": [
       "Index(['genome', 'readlength', 'damage', 'simuCov', 'simuContigLength',\n",
       "       'reference', 'contiglength', 'GCcontent', 'medianRL', 'null_model_p0',\n",
       "       'null_model_p0_stdev', 'damage_model_p', 'damage_model_p_stdev',\n",
       "       'damage_model_pmin', 'damage_model_pmin_stdev', 'damage_model_pmax',\n",
       "       'damage_model_pmax_stdev', 'pvalue', 'qvalue', 'RMSE',\n",
       "       'nb_reads_aligned', 'coverage', 'actualCov', 'CtoT-0', 'CtoT-1',\n",
       "       'CtoT-2', 'CtoT-3', 'CtoT-4', 'GtoA-0', 'GtoA-1', 'GtoA-2', 'GtoA-3',\n",
       "       'GtoA-4'],\n",
       "      dtype='object')"
      ]
     },
     "execution_count": 13,
     "metadata": {},
     "output_type": "execute_result"
    }
   ],
   "source": [
    "data.columns"
   ]
  },
  {
   "cell_type": "code",
   "execution_count": 14,
   "metadata": {},
   "outputs": [
    {
     "data": {
      "text/plain": [
       "genome                      object\n",
       "readlength                  object\n",
       "damage                     float64\n",
       "simuCov                     object\n",
       "simuContigLength            object\n",
       "reference                   object\n",
       "contiglength                 int64\n",
       "GCcontent                  float64\n",
       "medianRL                     int64\n",
       "null_model_p0              float64\n",
       "null_model_p0_stdev        float64\n",
       "damage_model_p             float64\n",
       "damage_model_p_stdev       float64\n",
       "damage_model_pmin          float64\n",
       "damage_model_pmin_stdev    float64\n",
       "damage_model_pmax          float64\n",
       "damage_model_pmax_stdev    float64\n",
       "pvalue                     float64\n",
       "qvalue                     float64\n",
       "RMSE                       float64\n",
       "nb_reads_aligned             int64\n",
       "coverage                   float64\n",
       "actualCov                  float64\n",
       "CtoT-0                     float64\n",
       "CtoT-1                     float64\n",
       "CtoT-2                     float64\n",
       "CtoT-3                     float64\n",
       "CtoT-4                     float64\n",
       "GtoA-0                     float64\n",
       "GtoA-1                     float64\n",
       "GtoA-2                     float64\n",
       "GtoA-3                     float64\n",
       "GtoA-4                     float64\n",
       "dtype: object"
      ]
     },
     "execution_count": 14,
     "metadata": {},
     "output_type": "execute_result"
    }
   ],
   "source": [
    "data.dtypes"
   ]
  },
  {
   "cell_type": "code",
   "execution_count": 15,
   "metadata": {},
   "outputs": [
    {
     "name": "stdout",
     "output_type": "stream",
     "text": [
      "Index(['genome', 'readlength', 'damage', 'simuCov', 'simuContigLength',\n",
      "       'reference', 'contiglength', 'GCcontent', 'medianRL', 'null_model_p0',\n",
      "       'null_model_p0_stdev', 'damage_model_p', 'damage_model_p_stdev',\n",
      "       'damage_model_pmin', 'damage_model_pmin_stdev', 'damage_model_pmax',\n",
      "       'damage_model_pmax_stdev', 'pvalue', 'qvalue', 'RMSE',\n",
      "       'nb_reads_aligned', 'coverage', 'actualCov', 'CtoT-0', 'CtoT-1',\n",
      "       'CtoT-2', 'CtoT-3', 'CtoT-4', 'GtoA-0', 'GtoA-1', 'GtoA-2', 'GtoA-3',\n",
      "       'GtoA-4'],\n",
      "      dtype='object')\n"
     ]
    }
   ],
   "source": [
    "print(data.columns)"
   ]
  },
  {
   "cell_type": "code",
   "execution_count": 16,
   "metadata": {},
   "outputs": [],
   "source": [
    "data = data[['qvalue','damage_model_pmax','coverage','contiglength']]"
   ]
  },
  {
   "cell_type": "code",
   "execution_count": 17,
   "metadata": {},
   "outputs": [],
   "source": [
    "data = data.loc[data['qvalue'].notna(),:]"
   ]
  },
  {
   "cell_type": "markdown",
   "metadata": {},
   "source": [
    "## Defining `sig` categorial variable\n",
    "`True` if `qvalue`<0.05  \n",
    "`False` if `qvalue`>= 0.05"
   ]
  },
  {
   "cell_type": "code",
   "execution_count": 18,
   "metadata": {},
   "outputs": [],
   "source": [
    "data['sig'] = pd.cut(data['qvalue'],[0, 0.05, 1], labels=[True,False], include_lowest=True)"
   ]
  },
  {
   "cell_type": "code",
   "execution_count": 19,
   "metadata": {},
   "outputs": [
    {
     "data": {
      "text/html": [
       "<div>\n",
       "<style scoped>\n",
       "    .dataframe tbody tr th:only-of-type {\n",
       "        vertical-align: middle;\n",
       "    }\n",
       "\n",
       "    .dataframe tbody tr th {\n",
       "        vertical-align: top;\n",
       "    }\n",
       "\n",
       "    .dataframe thead th {\n",
       "        text-align: right;\n",
       "    }\n",
       "</style>\n",
       "<table border=\"1\" class=\"dataframe\">\n",
       "  <thead>\n",
       "    <tr style=\"text-align: right;\">\n",
       "      <th></th>\n",
       "      <th>qvalue</th>\n",
       "      <th>damage_model_pmax</th>\n",
       "      <th>coverage</th>\n",
       "      <th>contiglength</th>\n",
       "      <th>sig</th>\n",
       "    </tr>\n",
       "  </thead>\n",
       "  <tbody>\n",
       "    <tr>\n",
       "      <th>1896</th>\n",
       "      <td>0.46821</td>\n",
       "      <td>0.17678</td>\n",
       "      <td>3.23761</td>\n",
       "      <td>3068</td>\n",
       "      <td>False</td>\n",
       "    </tr>\n",
       "    <tr>\n",
       "      <th>2186</th>\n",
       "      <td>1.00000</td>\n",
       "      <td>0.00007</td>\n",
       "      <td>4.04900</td>\n",
       "      <td>22469</td>\n",
       "      <td>False</td>\n",
       "    </tr>\n",
       "    <tr>\n",
       "      <th>2671</th>\n",
       "      <td>1.00000</td>\n",
       "      <td>0.17678</td>\n",
       "      <td>7.22360</td>\n",
       "      <td>3068</td>\n",
       "      <td>False</td>\n",
       "    </tr>\n",
       "    <tr>\n",
       "      <th>2985</th>\n",
       "      <td>1.00000</td>\n",
       "      <td>0.01588</td>\n",
       "      <td>7.58392</td>\n",
       "      <td>22469</td>\n",
       "      <td>False</td>\n",
       "    </tr>\n",
       "    <tr>\n",
       "      <th>3483</th>\n",
       "      <td>1.00000</td>\n",
       "      <td>0.17678</td>\n",
       "      <td>13.59224</td>\n",
       "      <td>3068</td>\n",
       "      <td>False</td>\n",
       "    </tr>\n",
       "    <tr>\n",
       "      <th>...</th>\n",
       "      <td>...</td>\n",
       "      <td>...</td>\n",
       "      <td>...</td>\n",
       "      <td>...</td>\n",
       "      <td>...</td>\n",
       "    </tr>\n",
       "    <tr>\n",
       "      <th>701995</th>\n",
       "      <td>0.00000</td>\n",
       "      <td>0.30366</td>\n",
       "      <td>201.63903</td>\n",
       "      <td>346944</td>\n",
       "      <td>True</td>\n",
       "    </tr>\n",
       "    <tr>\n",
       "      <th>701996</th>\n",
       "      <td>0.00000</td>\n",
       "      <td>0.30444</td>\n",
       "      <td>260.31416</td>\n",
       "      <td>273518</td>\n",
       "      <td>True</td>\n",
       "    </tr>\n",
       "    <tr>\n",
       "      <th>701997</th>\n",
       "      <td>0.00000</td>\n",
       "      <td>0.30184</td>\n",
       "      <td>310.00277</td>\n",
       "      <td>232161</td>\n",
       "      <td>True</td>\n",
       "    </tr>\n",
       "    <tr>\n",
       "      <th>701998</th>\n",
       "      <td>0.00000</td>\n",
       "      <td>0.30351</td>\n",
       "      <td>209.11812</td>\n",
       "      <td>287978</td>\n",
       "      <td>True</td>\n",
       "    </tr>\n",
       "    <tr>\n",
       "      <th>701999</th>\n",
       "      <td>0.00000</td>\n",
       "      <td>0.30067</td>\n",
       "      <td>210.42236</td>\n",
       "      <td>280841</td>\n",
       "      <td>True</td>\n",
       "    </tr>\n",
       "  </tbody>\n",
       "</table>\n",
       "<p>610730 rows × 5 columns</p>\n",
       "</div>"
      ],
      "text/plain": [
       "         qvalue  damage_model_pmax   coverage  contiglength    sig\n",
       "1896    0.46821            0.17678    3.23761          3068  False\n",
       "2186    1.00000            0.00007    4.04900         22469  False\n",
       "2671    1.00000            0.17678    7.22360          3068  False\n",
       "2985    1.00000            0.01588    7.58392         22469  False\n",
       "3483    1.00000            0.17678   13.59224          3068  False\n",
       "...         ...                ...        ...           ...    ...\n",
       "701995  0.00000            0.30366  201.63903        346944   True\n",
       "701996  0.00000            0.30444  260.31416        273518   True\n",
       "701997  0.00000            0.30184  310.00277        232161   True\n",
       "701998  0.00000            0.30351  209.11812        287978   True\n",
       "701999  0.00000            0.30067  210.42236        280841   True\n",
       "\n",
       "[610730 rows x 5 columns]"
      ]
     },
     "execution_count": 19,
     "metadata": {},
     "output_type": "execute_result"
    }
   ],
   "source": [
    "data"
   ]
  },
  {
   "cell_type": "code",
   "execution_count": 20,
   "metadata": {},
   "outputs": [
    {
     "data": {
      "text/plain": [
       "qvalue                float64\n",
       "damage_model_pmax     float64\n",
       "coverage              float64\n",
       "contiglength            int64\n",
       "sig                  category\n",
       "dtype: object"
      ]
     },
     "execution_count": 20,
     "metadata": {},
     "output_type": "execute_result"
    }
   ],
   "source": [
    "data.dtypes"
   ]
  },
  {
   "cell_type": "code",
   "execution_count": 21,
   "metadata": {},
   "outputs": [],
   "source": [
    "data = data.drop('qvalue', axis=1)"
   ]
  },
  {
   "cell_type": "code",
   "execution_count": 22,
   "metadata": {},
   "outputs": [],
   "source": [
    "data.rename(columns={'damage_model_pmax':'damage'}, inplace=True)"
   ]
  },
  {
   "cell_type": "markdown",
   "metadata": {},
   "source": [
    "### Reordering the categories"
   ]
  },
  {
   "cell_type": "markdown",
   "metadata": {},
   "source": [
    "## Model formula"
   ]
  },
  {
   "cell_type": "code",
   "execution_count": 23,
   "metadata": {},
   "outputs": [],
   "source": [
    "formula = 'sig ~ coverage + damage + contiglength'"
   ]
  },
  {
   "cell_type": "markdown",
   "metadata": {},
   "source": [
    "## Creating the GLM logistic model"
   ]
  },
  {
   "cell_type": "code",
   "execution_count": 24,
   "metadata": {},
   "outputs": [],
   "source": [
    "model_call = smf.glm(formula= formula, data=data, family=sm.families.Binomial())"
   ]
  },
  {
   "cell_type": "code",
   "execution_count": 25,
   "metadata": {},
   "outputs": [],
   "source": [
    "model = model_call.fit()"
   ]
  },
  {
   "cell_type": "code",
   "execution_count": 26,
   "metadata": {},
   "outputs": [
    {
     "name": "stdout",
     "output_type": "stream",
     "text": [
      "                      Generalized Linear Model Regression Results                      \n",
      "=======================================================================================\n",
      "Dep. Variable:     ['sig[True]', 'sig[False]']   No. Observations:               610730\n",
      "Model:                                     GLM   Df Residuals:                   610726\n",
      "Model Family:                         Binomial   Df Model:                            3\n",
      "Link Function:                           logit   Scale:                          1.0000\n",
      "Method:                                   IRLS   Log-Likelihood:            -2.0981e+05\n",
      "Date:                         Wed, 17 Mar 2021   Deviance:                   4.1963e+05\n",
      "Time:                                 20:40:24   Pearson chi2:                 8.62e+11\n",
      "No. Iterations:                              9                                         \n",
      "Covariance Type:                     nonrobust                                         \n",
      "================================================================================\n",
      "                   coef    std err          z      P>|z|      [0.025      0.975]\n",
      "--------------------------------------------------------------------------------\n",
      "Intercept       -1.5586      0.008   -196.132      0.000      -1.574      -1.543\n",
      "coverage         0.0258      0.000    197.031      0.000       0.026       0.026\n",
      "damage           7.3441      0.041    177.679      0.000       7.263       7.425\n",
      "contiglength  3.979e-05   1.94e-07    205.133      0.000    3.94e-05    4.02e-05\n",
      "================================================================================\n"
     ]
    }
   ],
   "source": [
    "print(model.summary())"
   ]
  },
  {
   "cell_type": "markdown",
   "metadata": {},
   "source": [
    "### Saving the model"
   ]
  },
  {
   "cell_type": "code",
   "execution_count": 27,
   "metadata": {},
   "outputs": [
    {
     "name": "stderr",
     "output_type": "stream",
     "text": [
      "/projects1/users/borry/15_miniconda3/envs/pydamage/lib/python3.7/site-packages/statsmodels/genmod/generalized_linear_model.py:1561: FutureWarning: Anscombe residuals currently unscaled. After the 0.12 release, they will be scaled.\n",
      "  'release, they will be scaled.', category=FutureWarning)\n"
     ]
    }
   ],
   "source": [
    "model.save(\"../../models/accuracy_model_v2_python.pickle\", remove_data=True)"
   ]
  },
  {
   "cell_type": "code",
   "execution_count": 28,
   "metadata": {},
   "outputs": [],
   "source": [
    "! gzip ../../models/accuracy_model_v2_python.pickle"
   ]
  },
  {
   "cell_type": "markdown",
   "metadata": {},
   "source": [
    "### Test data"
   ]
  },
  {
   "cell_type": "code",
   "execution_count": 67,
   "metadata": {},
   "outputs": [],
   "source": [
    "d = pd.Series([10,10000,0.05]).to_frame(name='NZ_JHCB02000014.1').transpose()\n",
    "d = pd.DataFrame([range(1,41),[10000]*40,[0.2]*40]).transpose()"
   ]
  },
  {
   "cell_type": "code",
   "execution_count": 68,
   "metadata": {},
   "outputs": [],
   "source": [
    "d.columns = ['coverage','contiglength','damage']"
   ]
  },
  {
   "cell_type": "code",
   "execution_count": 69,
   "metadata": {},
   "outputs": [
    {
     "data": {
      "text/html": [
       "<div>\n",
       "<style scoped>\n",
       "    .dataframe tbody tr th:only-of-type {\n",
       "        vertical-align: middle;\n",
       "    }\n",
       "\n",
       "    .dataframe tbody tr th {\n",
       "        vertical-align: top;\n",
       "    }\n",
       "\n",
       "    .dataframe thead th {\n",
       "        text-align: right;\n",
       "    }\n",
       "</style>\n",
       "<table border=\"1\" class=\"dataframe\">\n",
       "  <thead>\n",
       "    <tr style=\"text-align: right;\">\n",
       "      <th></th>\n",
       "      <th>coverage</th>\n",
       "      <th>contiglength</th>\n",
       "      <th>damage</th>\n",
       "    </tr>\n",
       "  </thead>\n",
       "  <tbody>\n",
       "    <tr>\n",
       "      <th>0</th>\n",
       "      <td>1.0</td>\n",
       "      <td>10000.0</td>\n",
       "      <td>0.2</td>\n",
       "    </tr>\n",
       "    <tr>\n",
       "      <th>1</th>\n",
       "      <td>2.0</td>\n",
       "      <td>10000.0</td>\n",
       "      <td>0.2</td>\n",
       "    </tr>\n",
       "    <tr>\n",
       "      <th>2</th>\n",
       "      <td>3.0</td>\n",
       "      <td>10000.0</td>\n",
       "      <td>0.2</td>\n",
       "    </tr>\n",
       "    <tr>\n",
       "      <th>3</th>\n",
       "      <td>4.0</td>\n",
       "      <td>10000.0</td>\n",
       "      <td>0.2</td>\n",
       "    </tr>\n",
       "    <tr>\n",
       "      <th>4</th>\n",
       "      <td>5.0</td>\n",
       "      <td>10000.0</td>\n",
       "      <td>0.2</td>\n",
       "    </tr>\n",
       "    <tr>\n",
       "      <th>5</th>\n",
       "      <td>6.0</td>\n",
       "      <td>10000.0</td>\n",
       "      <td>0.2</td>\n",
       "    </tr>\n",
       "    <tr>\n",
       "      <th>6</th>\n",
       "      <td>7.0</td>\n",
       "      <td>10000.0</td>\n",
       "      <td>0.2</td>\n",
       "    </tr>\n",
       "    <tr>\n",
       "      <th>7</th>\n",
       "      <td>8.0</td>\n",
       "      <td>10000.0</td>\n",
       "      <td>0.2</td>\n",
       "    </tr>\n",
       "    <tr>\n",
       "      <th>8</th>\n",
       "      <td>9.0</td>\n",
       "      <td>10000.0</td>\n",
       "      <td>0.2</td>\n",
       "    </tr>\n",
       "    <tr>\n",
       "      <th>9</th>\n",
       "      <td>10.0</td>\n",
       "      <td>10000.0</td>\n",
       "      <td>0.2</td>\n",
       "    </tr>\n",
       "    <tr>\n",
       "      <th>10</th>\n",
       "      <td>11.0</td>\n",
       "      <td>10000.0</td>\n",
       "      <td>0.2</td>\n",
       "    </tr>\n",
       "    <tr>\n",
       "      <th>11</th>\n",
       "      <td>12.0</td>\n",
       "      <td>10000.0</td>\n",
       "      <td>0.2</td>\n",
       "    </tr>\n",
       "    <tr>\n",
       "      <th>12</th>\n",
       "      <td>13.0</td>\n",
       "      <td>10000.0</td>\n",
       "      <td>0.2</td>\n",
       "    </tr>\n",
       "    <tr>\n",
       "      <th>13</th>\n",
       "      <td>14.0</td>\n",
       "      <td>10000.0</td>\n",
       "      <td>0.2</td>\n",
       "    </tr>\n",
       "    <tr>\n",
       "      <th>14</th>\n",
       "      <td>15.0</td>\n",
       "      <td>10000.0</td>\n",
       "      <td>0.2</td>\n",
       "    </tr>\n",
       "    <tr>\n",
       "      <th>15</th>\n",
       "      <td>16.0</td>\n",
       "      <td>10000.0</td>\n",
       "      <td>0.2</td>\n",
       "    </tr>\n",
       "    <tr>\n",
       "      <th>16</th>\n",
       "      <td>17.0</td>\n",
       "      <td>10000.0</td>\n",
       "      <td>0.2</td>\n",
       "    </tr>\n",
       "    <tr>\n",
       "      <th>17</th>\n",
       "      <td>18.0</td>\n",
       "      <td>10000.0</td>\n",
       "      <td>0.2</td>\n",
       "    </tr>\n",
       "    <tr>\n",
       "      <th>18</th>\n",
       "      <td>19.0</td>\n",
       "      <td>10000.0</td>\n",
       "      <td>0.2</td>\n",
       "    </tr>\n",
       "    <tr>\n",
       "      <th>19</th>\n",
       "      <td>20.0</td>\n",
       "      <td>10000.0</td>\n",
       "      <td>0.2</td>\n",
       "    </tr>\n",
       "    <tr>\n",
       "      <th>20</th>\n",
       "      <td>21.0</td>\n",
       "      <td>10000.0</td>\n",
       "      <td>0.2</td>\n",
       "    </tr>\n",
       "    <tr>\n",
       "      <th>21</th>\n",
       "      <td>22.0</td>\n",
       "      <td>10000.0</td>\n",
       "      <td>0.2</td>\n",
       "    </tr>\n",
       "    <tr>\n",
       "      <th>22</th>\n",
       "      <td>23.0</td>\n",
       "      <td>10000.0</td>\n",
       "      <td>0.2</td>\n",
       "    </tr>\n",
       "    <tr>\n",
       "      <th>23</th>\n",
       "      <td>24.0</td>\n",
       "      <td>10000.0</td>\n",
       "      <td>0.2</td>\n",
       "    </tr>\n",
       "    <tr>\n",
       "      <th>24</th>\n",
       "      <td>25.0</td>\n",
       "      <td>10000.0</td>\n",
       "      <td>0.2</td>\n",
       "    </tr>\n",
       "    <tr>\n",
       "      <th>25</th>\n",
       "      <td>26.0</td>\n",
       "      <td>10000.0</td>\n",
       "      <td>0.2</td>\n",
       "    </tr>\n",
       "    <tr>\n",
       "      <th>26</th>\n",
       "      <td>27.0</td>\n",
       "      <td>10000.0</td>\n",
       "      <td>0.2</td>\n",
       "    </tr>\n",
       "    <tr>\n",
       "      <th>27</th>\n",
       "      <td>28.0</td>\n",
       "      <td>10000.0</td>\n",
       "      <td>0.2</td>\n",
       "    </tr>\n",
       "    <tr>\n",
       "      <th>28</th>\n",
       "      <td>29.0</td>\n",
       "      <td>10000.0</td>\n",
       "      <td>0.2</td>\n",
       "    </tr>\n",
       "    <tr>\n",
       "      <th>29</th>\n",
       "      <td>30.0</td>\n",
       "      <td>10000.0</td>\n",
       "      <td>0.2</td>\n",
       "    </tr>\n",
       "    <tr>\n",
       "      <th>30</th>\n",
       "      <td>31.0</td>\n",
       "      <td>10000.0</td>\n",
       "      <td>0.2</td>\n",
       "    </tr>\n",
       "    <tr>\n",
       "      <th>31</th>\n",
       "      <td>32.0</td>\n",
       "      <td>10000.0</td>\n",
       "      <td>0.2</td>\n",
       "    </tr>\n",
       "    <tr>\n",
       "      <th>32</th>\n",
       "      <td>33.0</td>\n",
       "      <td>10000.0</td>\n",
       "      <td>0.2</td>\n",
       "    </tr>\n",
       "    <tr>\n",
       "      <th>33</th>\n",
       "      <td>34.0</td>\n",
       "      <td>10000.0</td>\n",
       "      <td>0.2</td>\n",
       "    </tr>\n",
       "    <tr>\n",
       "      <th>34</th>\n",
       "      <td>35.0</td>\n",
       "      <td>10000.0</td>\n",
       "      <td>0.2</td>\n",
       "    </tr>\n",
       "    <tr>\n",
       "      <th>35</th>\n",
       "      <td>36.0</td>\n",
       "      <td>10000.0</td>\n",
       "      <td>0.2</td>\n",
       "    </tr>\n",
       "    <tr>\n",
       "      <th>36</th>\n",
       "      <td>37.0</td>\n",
       "      <td>10000.0</td>\n",
       "      <td>0.2</td>\n",
       "    </tr>\n",
       "    <tr>\n",
       "      <th>37</th>\n",
       "      <td>38.0</td>\n",
       "      <td>10000.0</td>\n",
       "      <td>0.2</td>\n",
       "    </tr>\n",
       "    <tr>\n",
       "      <th>38</th>\n",
       "      <td>39.0</td>\n",
       "      <td>10000.0</td>\n",
       "      <td>0.2</td>\n",
       "    </tr>\n",
       "    <tr>\n",
       "      <th>39</th>\n",
       "      <td>40.0</td>\n",
       "      <td>10000.0</td>\n",
       "      <td>0.2</td>\n",
       "    </tr>\n",
       "  </tbody>\n",
       "</table>\n",
       "</div>"
      ],
      "text/plain": [
       "    coverage  contiglength  damage\n",
       "0        1.0       10000.0     0.2\n",
       "1        2.0       10000.0     0.2\n",
       "2        3.0       10000.0     0.2\n",
       "3        4.0       10000.0     0.2\n",
       "4        5.0       10000.0     0.2\n",
       "5        6.0       10000.0     0.2\n",
       "6        7.0       10000.0     0.2\n",
       "7        8.0       10000.0     0.2\n",
       "8        9.0       10000.0     0.2\n",
       "9       10.0       10000.0     0.2\n",
       "10      11.0       10000.0     0.2\n",
       "11      12.0       10000.0     0.2\n",
       "12      13.0       10000.0     0.2\n",
       "13      14.0       10000.0     0.2\n",
       "14      15.0       10000.0     0.2\n",
       "15      16.0       10000.0     0.2\n",
       "16      17.0       10000.0     0.2\n",
       "17      18.0       10000.0     0.2\n",
       "18      19.0       10000.0     0.2\n",
       "19      20.0       10000.0     0.2\n",
       "20      21.0       10000.0     0.2\n",
       "21      22.0       10000.0     0.2\n",
       "22      23.0       10000.0     0.2\n",
       "23      24.0       10000.0     0.2\n",
       "24      25.0       10000.0     0.2\n",
       "25      26.0       10000.0     0.2\n",
       "26      27.0       10000.0     0.2\n",
       "27      28.0       10000.0     0.2\n",
       "28      29.0       10000.0     0.2\n",
       "29      30.0       10000.0     0.2\n",
       "30      31.0       10000.0     0.2\n",
       "31      32.0       10000.0     0.2\n",
       "32      33.0       10000.0     0.2\n",
       "33      34.0       10000.0     0.2\n",
       "34      35.0       10000.0     0.2\n",
       "35      36.0       10000.0     0.2\n",
       "36      37.0       10000.0     0.2\n",
       "37      38.0       10000.0     0.2\n",
       "38      39.0       10000.0     0.2\n",
       "39      40.0       10000.0     0.2"
      ]
     },
     "execution_count": 69,
     "metadata": {},
     "output_type": "execute_result"
    }
   ],
   "source": [
    "d"
   ]
  },
  {
   "cell_type": "markdown",
   "metadata": {},
   "source": [
    "### Making inference on test data"
   ]
  },
  {
   "cell_type": "code",
   "execution_count": 70,
   "metadata": {},
   "outputs": [
    {
     "data": {
      "text/plain": [
       "0     0.582730\n",
       "1     0.588989\n",
       "2     0.595220\n",
       "3     0.601420\n",
       "4     0.607588\n",
       "5     0.613722\n",
       "6     0.619820\n",
       "7     0.625880\n",
       "8     0.631901\n",
       "9     0.637881\n",
       "10    0.643819\n",
       "11    0.649713\n",
       "12    0.655561\n",
       "13    0.661363\n",
       "14    0.667117\n",
       "15    0.672821\n",
       "16    0.678475\n",
       "17    0.684076\n",
       "18    0.689625\n",
       "19    0.695120\n",
       "20    0.700560\n",
       "21    0.705944\n",
       "22    0.711271\n",
       "23    0.716540\n",
       "24    0.721751\n",
       "25    0.726902\n",
       "26    0.731993\n",
       "27    0.737024\n",
       "28    0.741994\n",
       "29    0.746902\n",
       "30    0.751748\n",
       "31    0.756531\n",
       "32    0.761251\n",
       "33    0.765909\n",
       "34    0.770502\n",
       "35    0.775032\n",
       "36    0.779499\n",
       "37    0.783901\n",
       "38    0.788239\n",
       "39    0.792514\n",
       "dtype: float64"
      ]
     },
     "execution_count": 70,
     "metadata": {},
     "output_type": "execute_result"
    }
   ],
   "source": [
    "model.predict(d)"
   ]
  },
  {
   "cell_type": "markdown",
   "metadata": {},
   "source": [
    "Opening model from file"
   ]
  },
  {
   "cell_type": "code",
   "execution_count": 33,
   "metadata": {},
   "outputs": [],
   "source": [
    "with xopen(\"../../models/accuracy_model_v2_python.pickle.gz\", 'rb') as mod_p:\n",
    "    model2 = pickle.load(mod_p)"
   ]
  },
  {
   "cell_type": "code",
   "execution_count": 34,
   "metadata": {},
   "outputs": [
    {
     "data": {
      "text/plain": [
       "NZ_JHCB02000014.1    0.949145\n",
       "dtype: float64"
      ]
     },
     "execution_count": 34,
     "metadata": {},
     "output_type": "execute_result"
    }
   ],
   "source": [
    "model2.predict(d)"
   ]
  }
 ],
 "metadata": {
  "kernelspec": {
   "display_name": "Python [conda env:pydamage]",
   "language": "python",
   "name": "conda-env-pydamage-py"
  },
  "language_info": {
   "codemirror_mode": {
    "name": "ipython",
    "version": 3
   },
   "file_extension": ".py",
   "mimetype": "text/x-python",
   "name": "python",
   "nbconvert_exporter": "python",
   "pygments_lexer": "ipython3",
   "version": "3.7.9"
  }
 },
 "nbformat": 4,
 "nbformat_minor": 4
}
