{
 "cells": [
  {
   "cell_type": "code",
   "execution_count": 1,
   "metadata": {},
   "outputs": [],
   "source": [
    "import pysam\n",
    "import numpy as np\n",
    "import seaborn as sns\n",
    "import pandas as pd\n",
    "from tqdm import tqdm\n",
    "import matplotlib.pyplot as plt"
   ]
  },
  {
   "cell_type": "code",
   "execution_count": 2,
   "metadata": {},
   "outputs": [],
   "source": [
    "plt.style.use('ggplot.mplstyle')"
   ]
  },
  {
   "cell_type": "code",
   "execution_count": 3,
   "metadata": {},
   "outputs": [],
   "source": [
    "alignment = \"/projects1/microbiome_coprolite/coprolite_evolution/tmp/assembly_contigs/ZSM028.sorted.bam\""
   ]
  },
  {
   "cell_type": "code",
   "execution_count": 4,
   "metadata": {},
   "outputs": [],
   "source": [
    "def avg_coverage(pysam_cov):\n",
    "    \"\"\"Computes average coverage of a reference\n",
    "    Args:\n",
    "        pysam_cov (np.array): Four dimensional array of coverage for each base\n",
    "    Returns:\n",
    "        float: mean coverage of reference\n",
    "    \"\"\"\n",
    "    A = np.array(pysam_cov[0], dtype=int)\n",
    "    C = np.array(pysam_cov[1], dtype=int)\n",
    "    G = np.array(pysam_cov[2], dtype=int)\n",
    "    T = np.array(pysam_cov[3], dtype=int)\n",
    "    cov_all_bases = A + C + G + T\n",
    "    cov = np.mean(cov_all_bases)\n",
    "    return cov"
   ]
  },
  {
   "cell_type": "code",
   "execution_count": 5,
   "metadata": {},
   "outputs": [],
   "source": [
    "samfile = pysam.AlignmentFile(alignment, \"rb\")\n",
    "references = samfile.references\n"
   ]
  },
  {
   "cell_type": "code",
   "execution_count": 6,
   "metadata": {},
   "outputs": [
    {
     "name": "stderr",
     "output_type": "stream",
     "text": [
      "100%|██████████| 17081/17081 [04:31<00:00, 62.94it/s] \n"
     ]
    }
   ],
   "source": [
    "cov_ref = {}\n",
    "for r in tqdm(references):\n",
    "    cov_ref[r] = avg_coverage(samfile.count_coverage(contig=r))"
   ]
  },
  {
   "cell_type": "code",
   "execution_count": 7,
   "metadata": {},
   "outputs": [],
   "source": [
    "df = pd.Series(cov_ref).to_frame(name='coverage')"
   ]
  },
  {
   "cell_type": "code",
   "execution_count": 8,
   "metadata": {},
   "outputs": [
    {
     "data": {
      "text/plain": [
       "count    17081.000000\n",
       "mean        29.595170\n",
       "std         30.334234\n",
       "min          4.583851\n",
       "25%         16.622430\n",
       "50%         20.705628\n",
       "75%         32.328532\n",
       "max       1762.386119\n",
       "Name: coverage, dtype: float64"
      ]
     },
     "execution_count": 8,
     "metadata": {},
     "output_type": "execute_result"
    }
   ],
   "source": [
    "df.coverage.describe()"
   ]
  },
  {
   "cell_type": "code",
   "execution_count": 9,
   "metadata": {},
   "outputs": [
    {
     "name": "stderr",
     "output_type": "stream",
     "text": [
      "/projects1/users/borry/15_miniconda3/envs/pydamage/lib/python3.7/site-packages/seaborn/distributions.py:2557: FutureWarning: `distplot` is a deprecated function and will be removed in a future version. Please adapt your code to use either `displot` (a figure-level function with similar flexibility) or `histplot` (an axes-level function for histograms).\n",
      "  warnings.warn(msg, FutureWarning)\n"
     ]
    },
    {
     "data": {
      "image/png": "[encoded data removed]",
      "text/plain": [
       "<Figure size 432x288 with 1 Axes>"
      ]
     },
     "metadata": {},
     "output_type": "display_data"
    }
   ],
   "source": [
    "ax = sns.distplot(df.coverage, bins=int(df.coverage.max()), kde=False, color='#3982BF')\n",
    "ax.set_xscale('log')\n",
    "plt.ylabel(\"number of contigs\")\n",
    "plt.xlabel(\"coverage (log scale)\")\n",
    "plt.savefig(\"../../plots/coverage_distribution.png\", dpi=300)"
   ]
  },
  {
   "cell_type": "code",
   "execution_count": 10,
   "metadata": {},
   "outputs": [
    {
     "data": {
      "text/plain": [
       "(17081, 1)"
      ]
     },
     "execution_count": 10,
     "metadata": {},
     "output_type": "execute_result"
    }
   ],
   "source": [
    "df.shape"
   ]
  }
 ],
 "metadata": {
  "kernelspec": {
   "display_name": "Python [conda env:pydamage]",
   "language": "python",
   "name": "conda-env-pydamage-py"
  },
  "language_info": {
   "codemirror_mode": {
    "name": "ipython",
    "version": 3
   },
   "file_extension": ".py",
   "mimetype": "text/x-python",
   "name": "python",
   "nbconvert_exporter": "python",
   "pygments_lexer": "ipython3",
   "version": "3.7.9"
  }
 },
 "nbformat": 4,
 "nbformat_minor": 4
}
